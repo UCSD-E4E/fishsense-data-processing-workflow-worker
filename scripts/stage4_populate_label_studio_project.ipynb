{
 "cells": [
  {
   "cell_type": "code",
   "execution_count": 19,
   "id": "5be1a731",
   "metadata": {},
   "outputs": [],
   "source": [
    "from fishsense_api_sdk.client import Client\n",
    "from label_studio_sdk.client import LabelStudio\n",
    "from pathlib import Path\n",
    "import cv2\n",
    "from tqdm.notebook import tqdm"
   ]
  },
  {
   "cell_type": "code",
   "execution_count": 2,
   "id": "111207e1",
   "metadata": {},
   "outputs": [],
   "source": [
    "URL = \"http://localhost:8000\"\n",
    "DIVE_ID = 279\n",
    "PROJECT_ID = 57"
   ]
  },
  {
   "cell_type": "code",
   "execution_count": 14,
   "id": "e05bb89c",
   "metadata": {},
   "outputs": [],
   "source": [
    "OUTPUT_FOLDER = (Path(\"../output\") / \"preprocess_groups_jpeg\").absolute()"
   ]
  },
  {
   "cell_type": "code",
   "execution_count": 3,
   "id": "2c84b4cb",
   "metadata": {},
   "outputs": [
    {
     "data": {
      "text/plain": [
       "True"
      ]
     },
     "execution_count": 3,
     "metadata": {},
     "output_type": "execute_result"
    }
   ],
   "source": [
    "label_studio_api_key = Path(\"..\") / \".label_studio_api_key\"\n",
    "\n",
    "label_studio_api_key.exists()"
   ]
  },
  {
   "cell_type": "code",
   "execution_count": 4,
   "id": "07f0d0fd",
   "metadata": {},
   "outputs": [],
   "source": [
    "fs = Client(URL)\n",
    "ls = LabelStudio(base_url=f\"https://labeler.e4e.ucsd.edu\", api_key=label_studio_api_key.read_text().strip())"
   ]
  },
  {
   "cell_type": "code",
   "execution_count": 5,
   "id": "fae423f5",
   "metadata": {},
   "outputs": [
    {
     "data": {
      "text/plain": [
       "Dive(id=279, name='111323_Alligator DeepEast Drift2_FSL05', path='drive-download-20240307T1050Z/112023_Alligator/111323_Alligator/111323_Alligator_FSL05/111323_Alligator DeepEast Drift2_FSL05', dive_datetime=datetime.datetime(2023, 11, 13, 12, 34, 8, tzinfo=TzInfo(0)), priority=<Priority.HIGH: 'HIGH'>, flip_dive_slate=None, camera_id=5, dive_slate_id=None)"
      ]
     },
     "execution_count": 5,
     "metadata": {},
     "output_type": "execute_result"
    }
   ],
   "source": [
    "dive = await fs.dives.get(dive_id=DIVE_ID)\n",
    "\n",
    "dive"
   ]
  },
  {
   "cell_type": "code",
   "execution_count": 6,
   "id": "6a060072",
   "metadata": {},
   "outputs": [
    {
     "data": {
      "text/plain": [
       "(155,\n",
       " Image(id=78666, path='drive-download-20240307T1050Z/112023_Alligator/111323_Alligator/111323_Alligator_FSL05/111323_Alligator DeepEast Drift2_FSL05/PB130168.ORF', taken_datetime=datetime.datetime(2023, 11, 13, 12, 3, 31, tzinfo=TzInfo(0)), checksum='7252dfb0db0b855616e45607f58c1c93', is_canonical=True, dive_id=279, camera_id=5))"
      ]
     },
     "execution_count": 6,
     "metadata": {},
     "output_type": "execute_result"
    }
   ],
   "source": [
    "images = await fs.images.get(dive_id=dive.id)\n",
    "\n",
    "len(images), images[0]"
   ]
  },
  {
   "cell_type": "code",
   "execution_count": null,
   "id": "b3f0f9ec",
   "metadata": {},
   "outputs": [
    {
     "data": {
      "application/vnd.jupyter.widget-view+json": {
       "model_id": "0460c7dd9c5e4b81bd6e9db4d150f255",
       "version_major": 2,
       "version_minor": 0
      },
      "text/plain": [
       "  0%|          | 0/155 [00:00<?, ?it/s]"
      ]
     },
     "metadata": {},
     "output_type": "display_data"
    }
   ],
   "source": [
    "tasks = []\n",
    "\n",
    "for image in tqdm(images):\n",
    "    laser_label = await fs.labels.get_laser_label(image_id=image.id)\n",
    "    image_path = OUTPUT_FOLDER / f\"{image.checksum}.JPG\"\n",
    "\n",
    "    img = cv2.imread(str(image_path))\n",
    "    height, width, _ = img.shape\n",
    "\n",
    "    if laser_label is None or laser_label.label is None:\n",
    "        predictions = []\n",
    "    else:\n",
    "        predictions = [{\n",
    "            \"model_version\": \"sql\",\n",
    "            \"result\": [{\n",
    "                \"id\": \"result1\",\n",
    "                \"type\": \"keypointlabels\",        \n",
    "                \"to_name\": \"image\", \"from_name\": \"laser\",\n",
    "                \"original_width\": width, \"original_height\": height,\n",
    "                \"image_rotation\": 0,\n",
    "                \"value\": {\n",
    "                    \"x\": laser_label.x / width * 100,\n",
    "                    \"y\": laser_label.y / height * 100,\n",
    "                    \"width\": 0.2,\n",
    "                    \"keypointlabels\": [laser_label.label]\n",
    "                }\n",
    "            }]\n",
    "        }]\n",
    "\n",
    "    tasks.append({\n",
    "        \"data\": {\n",
    "            \"image\": f\"https://orchestrator.fishsense.e4e.ucsd.edu/api/v1/data/groups_jpeg/{image.checksum}\"\n",
    "        },\n",
    "        \"predictions\": predictions,\n",
    "        \"annotations\": []\n",
    "    })"
   ]
  },
  {
   "cell_type": "code",
   "execution_count": 21,
   "id": "1c1112d3",
   "metadata": {},
   "outputs": [
    {
     "data": {
      "text/plain": [
       "ProjectsImportTasksResponse(annotation_count=0, could_be_tasks_list=False, data_columns=[], duration=0.38053393363952637, file_upload_ids=[], found_formats=[], predictions_count=None, task_count=155, prediction_count=117, task_ids=[222252, 222253, 222254, 222255, 222256, 222257, 222258, 222259, 222260, 222261, 222262, 222263, 222264, 222265, 222266, 222267, 222268, 222269, 222270, 222271, 222272, 222273, 222274, 222275, 222276, 222277, 222278, 222279, 222280, 222281, 222282, 222283, 222284, 222285, 222286, 222287, 222288, 222289, 222290, 222291, 222292, 222293, 222294, 222295, 222296, 222297, 222298, 222299, 222300, 222301, 222302, 222303, 222304, 222305, 222306, 222307, 222308, 222309, 222310, 222311, 222312, 222313, 222314, 222315, 222316, 222317, 222318, 222319, 222320, 222321, 222322, 222323, 222324, 222325, 222326, 222327, 222328, 222329, 222330, 222331, 222332, 222333, 222334, 222335, 222336, 222337, 222338, 222339, 222340, 222341, 222342, 222343, 222344, 222345, 222346, 222347, 222348, 222349, 222350, 222351, 222352, 222353, 222354, 222355, 222356, 222357, 222358, 222359, 222360, 222361, 222362, 222363, 222364, 222365, 222366, 222367, 222368, 222369, 222370, 222371, 222372, 222373, 222374, 222375, 222376, 222377, 222378, 222379, 222380, 222381, 222382, 222383, 222384, 222385, 222386, 222387, 222388, 222389, 222390, 222391, 222392, 222393, 222394, 222395, 222396, 222397, 222398, 222399, 222400, 222401, 222402, 222403, 222404, 222405, 222406])"
      ]
     },
     "execution_count": 21,
     "metadata": {},
     "output_type": "execute_result"
    }
   ],
   "source": [
    "imported_tasks = ls.projects.import_tasks(PROJECT_ID, request=tasks, return_task_ids=True)\n",
    "\n",
    "imported_tasks"
   ]
  }
 ],
 "metadata": {
  "kernelspec": {
   "display_name": "fishsense-data-processing-workflow-worker",
   "language": "python",
   "name": "python3"
  },
  "language_info": {
   "codemirror_mode": {
    "name": "ipython",
    "version": 3
   },
   "file_extension": ".py",
   "mimetype": "text/x-python",
   "name": "python",
   "nbconvert_exporter": "python",
   "pygments_lexer": "ipython3",
   "version": "3.13.7"
  }
 },
 "nbformat": 4,
 "nbformat_minor": 5
}
