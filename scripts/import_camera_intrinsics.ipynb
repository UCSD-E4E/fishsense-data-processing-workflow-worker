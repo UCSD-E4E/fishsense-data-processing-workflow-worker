{
 "cells": [
  {
   "cell_type": "code",
   "execution_count": 1,
   "id": "f9d45af8",
   "metadata": {},
   "outputs": [],
   "source": [
    "from fishsense_api_sdk.client import Client\n",
    "from pathlib import Path\n",
    "import io\n",
    "import tarfile\n",
    "import numpy as np\n",
    "from fishsense_api_sdk.models.camera_intrinsics import CameraIntrinsics"
   ]
  },
  {
   "cell_type": "code",
   "execution_count": 2,
   "id": "7e2f11a0",
   "metadata": {},
   "outputs": [
    {
     "data": {
      "text/plain": [
       "True"
      ]
     },
     "execution_count": 2,
     "metadata": {},
     "output_type": "execute_result"
    }
   ],
   "source": [
    "INTRINSICS_PATH = Path(\"../intrinsics\").absolute()\n",
    "\n",
    "INTRINSICS_PATH.exists()"
   ]
  },
  {
   "cell_type": "code",
   "execution_count": 3,
   "id": "a4820da4",
   "metadata": {},
   "outputs": [],
   "source": [
    "URL = \"http://localhost:8000\""
   ]
  },
  {
   "cell_type": "code",
   "execution_count": 4,
   "id": "4f2fd007",
   "metadata": {},
   "outputs": [],
   "source": [
    "client = Client(URL)"
   ]
  },
  {
   "cell_type": "code",
   "execution_count": 5,
   "id": "f31f51c1",
   "metadata": {},
   "outputs": [
    {
     "data": {
      "text/plain": [
       "(11, Camera(id=1, serial_number='BJ6C69506', name='FSL-01'))"
      ]
     },
     "execution_count": 5,
     "metadata": {},
     "output_type": "execute_result"
    }
   ],
   "source": [
    "cameras = await client.cameras.get()\n",
    "\n",
    "len(cameras), cameras[0]"
   ]
  },
  {
   "cell_type": "code",
   "execution_count": 6,
   "id": "e1b24401",
   "metadata": {},
   "outputs": [],
   "source": [
    "def _read_numpy_array(buffer: io.BufferedReader):\n",
    "    with io.BytesIO(buffer.read()) as b:\n",
    "        return np.load(b)\n",
    "\n",
    "\n",
    "def read_numpy_array(file: tarfile.TarFile, name: str) -> np.ndarray:\n",
    "    return _read_numpy_array(file.extractfile(name))\n",
    "\n",
    "\n",
    "def read_camera_calibration(file_path: Path):\n",
    "    with file_path.open(\"rb\") as f:\n",
    "        with tarfile.open(fileobj=f) as t:\n",
    "            calibration_matrix = read_numpy_array(t, \"_calibration_matrix.npy\")\n",
    "            distortion_coeffs = read_numpy_array(t, \"_distortion_coefficients.npy\")\n",
    "    return calibration_matrix, distortion_coeffs"
   ]
  },
  {
   "cell_type": "code",
   "execution_count": 7,
   "id": "db7a758f",
   "metadata": {},
   "outputs": [],
   "source": [
    "for camera in cameras:\n",
    "    name = f\"{camera.name}D\"\n",
    "    calibration_path = INTRINSICS_PATH / name / f\"{name.lower()}-lens-raw.pkg\"\n",
    "\n",
    "    camera_matrix, distortion_coefficients = read_camera_calibration(calibration_path)\n",
    "\n",
    "    camera_intrinsics = CameraIntrinsics(camera_matrix, distortion_coefficients, camera.id)\n",
    "\n",
    "    await client.cameras.post_intrinsics(camera.id, camera_intrinsics)"
   ]
  },
  {
   "cell_type": "code",
   "execution_count": 8,
   "id": "14008143",
   "metadata": {},
   "outputs": [
    {
     "data": {
      "text/plain": [
       "{'id': None,\n",
       " 'camera_matrix': [[2855.214458140686, 0.0, 1975.9404638306894],\n",
       "  [0.0, 2881.198016892831, 1432.810609827023],\n",
       "  [0.0, 0.0, 1.0]],\n",
       " 'distortion_coefficients': [-0.10014835288043915,\n",
       "  -0.11623296677283777,\n",
       "  -0.0013661003169052597,\n",
       "  0.0002913857827530041,\n",
       "  0.10317095756502268],\n",
       " 'camera_id': 11}"
      ]
     },
     "execution_count": 8,
     "metadata": {},
     "output_type": "execute_result"
    }
   ],
   "source": [
    "camera_intrinsics._to_internal().model_dump()"
   ]
  }
 ],
 "metadata": {
  "kernelspec": {
   "display_name": "fishsense-data-processing-workflow-worker",
   "language": "python",
   "name": "python3"
  },
  "language_info": {
   "codemirror_mode": {
    "name": "ipython",
    "version": 3
   },
   "file_extension": ".py",
   "mimetype": "text/x-python",
   "name": "python",
   "nbconvert_exporter": "python",
   "pygments_lexer": "ipython3",
   "version": "3.13.7"
  }
 },
 "nbformat": 4,
 "nbformat_minor": 5
}
