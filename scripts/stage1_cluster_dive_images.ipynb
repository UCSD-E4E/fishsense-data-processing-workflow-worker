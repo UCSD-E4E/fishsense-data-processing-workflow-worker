{
 "cells": [
  {
   "cell_type": "code",
   "execution_count": 11,
   "id": "1d276bd2",
   "metadata": {},
   "outputs": [],
   "source": [
    "from fishsense_api_sdk.client import Client\n",
    "from sklearn.cluster import HDBSCAN"
   ]
  },
  {
   "cell_type": "code",
   "execution_count": 12,
   "id": "8ec60eb8",
   "metadata": {},
   "outputs": [],
   "source": [
    "URL = \"http://localhost:8000\"\n",
    "DIVE_ID = 279\n",
    "\n",
    "HDBSCAN_MIN_SAMPLES=2"
   ]
  },
  {
   "cell_type": "code",
   "execution_count": 13,
   "id": "f688bc7e",
   "metadata": {},
   "outputs": [],
   "source": [
    "client = Client(URL)"
   ]
  },
  {
   "cell_type": "code",
   "execution_count": 14,
   "id": "fb75d458",
   "metadata": {},
   "outputs": [
    {
     "data": {
      "text/plain": [
       "Dive(id=279, name='111323_Alligator DeepEast Drift2_FSL05', path='drive-download-20240307T1050Z/112023_Alligator/111323_Alligator/111323_Alligator_FSL05/111323_Alligator DeepEast Drift2_FSL05', dive_datetime=datetime.datetime(2023, 11, 13, 12, 34, 8, tzinfo=TzInfo(0)), priority=<Priority.HIGH: 'HIGH'>, flip_dive_slate=None, camera_id=5, dive_slate_id=None)"
      ]
     },
     "execution_count": 14,
     "metadata": {},
     "output_type": "execute_result"
    }
   ],
   "source": [
    "dive = await client.dives.get(dive_id=DIVE_ID)\n",
    "\n",
    "dive"
   ]
  },
  {
   "cell_type": "code",
   "execution_count": 15,
   "id": "d4805955",
   "metadata": {},
   "outputs": [
    {
     "data": {
      "text/plain": [
       "(155,\n",
       " Image(id=78666, path='drive-download-20240307T1050Z/112023_Alligator/111323_Alligator/111323_Alligator_FSL05/111323_Alligator DeepEast Drift2_FSL05/PB130168.ORF', taken_datetime=datetime.datetime(2023, 11, 13, 12, 3, 31, tzinfo=TzInfo(0)), checksum='7252dfb0db0b855616e45607f58c1c93', is_canonical=True, dive_id=279, camera_id=5))"
      ]
     },
     "execution_count": 15,
     "metadata": {},
     "output_type": "execute_result"
    }
   ],
   "source": [
    "images = await client.images.get(dive_id=dive.id)\n",
    "\n",
    "len(images), images[0]"
   ]
  },
  {
   "cell_type": "code",
   "execution_count": 16,
   "id": "5fc6b9a3",
   "metadata": {},
   "outputs": [
    {
     "data": {
      "text/plain": [
       "(155, 1699877011.0)"
      ]
     },
     "execution_count": 16,
     "metadata": {},
     "output_type": "execute_result"
    }
   ],
   "source": [
    "timestamps = [\n",
    "    img.taken_datetime.timestamp() if img.taken_datetime else 0\n",
    "    for img in images\n",
    "]\n",
    "\n",
    "len(timestamps), timestamps[0]"
   ]
  },
  {
   "cell_type": "code",
   "execution_count": 17,
   "id": "c938feb5",
   "metadata": {},
   "outputs": [],
   "source": [
    "X = [[ts] for ts in timestamps]"
   ]
  },
  {
   "cell_type": "code",
   "execution_count": 18,
   "id": "49f72da1",
   "metadata": {},
   "outputs": [
    {
     "data": {
      "text/plain": [
       "(155, 52, np.int64(4))"
      ]
     },
     "execution_count": 18,
     "metadata": {},
     "output_type": "execute_result"
    }
   ],
   "source": [
    "db = HDBSCAN(min_cluster_size=HDBSCAN_MIN_SAMPLES).fit(X)\n",
    "labels = db.labels_\n",
    "\n",
    "len(labels), len(set(labels)), labels[0]"
   ]
  },
  {
   "cell_type": "code",
   "execution_count": 19,
   "id": "b5296320",
   "metadata": {},
   "outputs": [
    {
     "data": {
      "text/plain": [
       "(53,\n",
       " 2,\n",
       " Image(id=78666, path='drive-download-20240307T1050Z/112023_Alligator/111323_Alligator/111323_Alligator_FSL05/111323_Alligator DeepEast Drift2_FSL05/PB130168.ORF', taken_datetime=datetime.datetime(2023, 11, 13, 12, 3, 31, tzinfo=TzInfo(0)), checksum='7252dfb0db0b855616e45607f58c1c93', is_canonical=True, dive_id=279, camera_id=5))"
      ]
     },
     "execution_count": 19,
     "metadata": {},
     "output_type": "execute_result"
    }
   ],
   "source": [
    "clusters = {}\n",
    "cluster_len = len(set(labels)) - (1 if -1 in labels else 0)\n",
    "for label, img in zip(labels, images):\n",
    "    if label == -1:\n",
    "        label = cluster_len\n",
    "        cluster_len += 1\n",
    "\n",
    "    if label not in clusters:\n",
    "        clusters[label] = []\n",
    "    clusters[label].append(img)\n",
    "\n",
    "clusters = list(clusters.values())\n",
    "\n",
    "len(clusters), len(clusters[0]), clusters[0][0]"
   ]
  },
  {
   "cell_type": "code",
   "execution_count": 20,
   "id": "2d3cb082",
   "metadata": {},
   "outputs": [],
   "source": [
    "for cluster in clusters:\n",
    "    image_ids = [img.id for img in cluster]\n",
    "\n",
    "    await client.images.post_cluster(DIVE_ID, image_ids)"
   ]
  }
 ],
 "metadata": {
  "kernelspec": {
   "display_name": "fishsense-data-processing-workflow-worker",
   "language": "python",
   "name": "python3"
  },
  "language_info": {
   "codemirror_mode": {
    "name": "ipython",
    "version": 3
   },
   "file_extension": ".py",
   "mimetype": "text/x-python",
   "name": "python",
   "nbconvert_exporter": "python",
   "pygments_lexer": "ipython3",
   "version": "3.13.7"
  }
 },
 "nbformat": 4,
 "nbformat_minor": 5
}
