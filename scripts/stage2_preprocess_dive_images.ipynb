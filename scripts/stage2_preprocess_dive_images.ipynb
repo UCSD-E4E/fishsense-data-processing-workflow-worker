{
 "cells": [
  {
   "cell_type": "code",
   "execution_count": 1,
   "id": "1ec22ea1",
   "metadata": {
    "ExecuteTime": {
     "end_time": "2025-10-15T04:42:15.180571Z",
     "start_time": "2025-10-15T04:42:14.774943Z"
    }
   },
   "outputs": [],
   "source": [
    "from fishsense_api_sdk.client import Client\n",
    "from fishsense_api_sdk.models.image import Image\n",
    "from pathlib import Path\n",
    "import asyncio\n",
    "from typing import List\n",
    "import numpy as np\n",
    "import rawpy\n",
    "import matplotlib.pyplot as plt\n",
    "from skimage.util import img_as_float, img_as_ubyte\n",
    "import cv2\n",
    "import math\n",
    "from tqdm.notebook import tqdm\n",
    "from skimage.exposure import adjust_gamma, equalize_adapthist"
   ]
  },
  {
   "cell_type": "code",
   "execution_count": 2,
   "id": "bc0951e2",
   "metadata": {
    "ExecuteTime": {
     "end_time": "2025-10-15T04:42:15.194654Z",
     "start_time": "2025-10-15T04:42:15.191948Z"
    }
   },
   "outputs": [],
   "source": [
    "URL = \"http://localhost:8000\"\n",
    "DIVE_ID = 279"
   ]
  },
  {
   "cell_type": "code",
   "execution_count": 3,
   "id": "665afb00",
   "metadata": {
    "ExecuteTime": {
     "end_time": "2025-10-15T04:42:15.372503Z",
     "start_time": "2025-10-15T04:42:15.251848Z"
    }
   },
   "outputs": [
    {
     "data": {
      "text/plain": [
       "(True, True)"
      ]
     },
     "execution_count": 3,
     "metadata": {},
     "output_type": "execute_result"
    }
   ],
   "source": [
    "DATA_FOLDER = (Path(\"../data\") / \"REEF\" / \"data\").absolute()\n",
    "OUTPUT_FOLDER = (Path(\"../output\") / \"preprocess_groups_jpeg\").absolute()\n",
    "\n",
    "DATA_FOLDER.exists(), OUTPUT_FOLDER.exists()"
   ]
  },
  {
   "cell_type": "code",
   "execution_count": 4,
   "id": "b177c16d",
   "metadata": {
    "ExecuteTime": {
     "end_time": "2025-10-15T04:42:15.388648Z",
     "start_time": "2025-10-15T04:42:15.386735Z"
    }
   },
   "outputs": [],
   "source": [
    "client = Client(URL)"
   ]
  },
  {
   "cell_type": "code",
   "execution_count": 5,
   "id": "988fd057",
   "metadata": {
    "ExecuteTime": {
     "end_time": "2025-10-15T04:42:16.823519Z",
     "start_time": "2025-10-15T04:42:15.436244Z"
    }
   },
   "outputs": [
    {
     "data": {
      "text/plain": [
       "Dive(id=279, name='111323_Alligator DeepEast Drift2_FSL05', path='drive-download-20240307T1050Z/112023_Alligator/111323_Alligator/111323_Alligator_FSL05/111323_Alligator DeepEast Drift2_FSL05', dive_datetime=datetime.datetime(2023, 11, 13, 12, 34, 8, tzinfo=TzInfo(0)), priority=<Priority.HIGH: 'HIGH'>, flip_dive_slate=None, camera_id=5, dive_slate_id=None)"
      ]
     },
     "execution_count": 5,
     "metadata": {},
     "output_type": "execute_result"
    }
   ],
   "source": [
    "dive = await client.dives.get(dive_id=DIVE_ID)\n",
    "\n",
    "dive"
   ]
  },
  {
   "cell_type": "code",
   "execution_count": 6,
   "id": "055d8747",
   "metadata": {},
   "outputs": [
    {
     "data": {
      "text/plain": [
       "Camera(id=5, serial_number='BJ6C67988', name='FSL-05')"
      ]
     },
     "execution_count": 6,
     "metadata": {},
     "output_type": "execute_result"
    }
   ],
   "source": [
    "camera = await client.cameras.get(dive.camera_id)\n",
    "\n",
    "camera"
   ]
  },
  {
   "cell_type": "code",
   "execution_count": 7,
   "id": "b0881ef8",
   "metadata": {},
   "outputs": [
    {
     "data": {
      "text/plain": [
       "<fishsense_api_sdk.models.camera_intrinsics.CameraIntrinsics at 0x7e38ae16d7f0>"
      ]
     },
     "execution_count": 7,
     "metadata": {},
     "output_type": "execute_result"
    }
   ],
   "source": [
    "camera_intrinsics = await client.cameras.get_intrinsics(dive.camera_id)\n",
    "\n",
    "camera_intrinsics"
   ]
  },
  {
   "cell_type": "code",
   "execution_count": 8,
   "id": "c98bf998",
   "metadata": {
    "ExecuteTime": {
     "end_time": "2025-10-15T04:42:19.949080Z",
     "start_time": "2025-10-15T04:42:16.893976Z"
    }
   },
   "outputs": [
    {
     "data": {
      "text/plain": [
       "(53, 2, 78666)"
      ]
     },
     "execution_count": 8,
     "metadata": {},
     "output_type": "execute_result"
    }
   ],
   "source": [
    "clusters = await client.images.get_clusters(dive_id=DIVE_ID)\n",
    "\n",
    "len(clusters), len(clusters[0].image_ids), clusters[0].image_ids[0]"
   ]
  },
  {
   "cell_type": "code",
   "execution_count": 9,
   "id": "61e5a0fb",
   "metadata": {
    "ExecuteTime": {
     "end_time": "2025-10-15T04:43:17.023056Z",
     "start_time": "2025-10-15T04:42:20.013680Z"
    }
   },
   "outputs": [
    {
     "data": {
      "text/plain": [
       "(155,\n",
       " 53,\n",
       " 2,\n",
       " Image(id=78666, path='drive-download-20240307T1050Z/112023_Alligator/111323_Alligator/111323_Alligator_FSL05/111323_Alligator DeepEast Drift2_FSL05/PB130168.ORF', taken_datetime=datetime.datetime(2023, 11, 13, 12, 3, 31, tzinfo=TzInfo(0)), checksum='7252dfb0db0b855616e45607f58c1c93', is_canonical=True, dive_id=279, camera_id=5))"
      ]
     },
     "execution_count": 9,
     "metadata": {},
     "output_type": "execute_result"
    }
   ],
   "source": [
    "cluster_images: List[List[Image]] = []\n",
    "\n",
    "for cluster in clusters:\n",
    "    cluster_images.append(await asyncio.gather(*[client.images.get(image_id=i) for i in cluster.image_ids]))\n",
    "\n",
    "sum(len(c) for c in cluster_images), len(cluster_images), len(cluster_images[0]), cluster_images[0][0]"
   ]
  },
  {
   "cell_type": "code",
   "execution_count": 10,
   "id": "84d7a30e",
   "metadata": {
    "ExecuteTime": {
     "end_time": "2025-10-15T04:43:17.150651Z",
     "start_time": "2025-10-15T04:43:17.148558Z"
    }
   },
   "outputs": [],
   "source": [
    "def process_raw(image_path: Path):\n",
    "    with image_path.open(\"rb\") as f:\n",
    "        with rawpy.imread(f) as raw:\n",
    "            img = img_as_float(\n",
    "                raw.postprocess(\n",
    "                    gamma=(1, 1),\n",
    "                    no_auto_bright=True,\n",
    "                    use_camera_wb=True,\n",
    "                    output_bps=16,\n",
    "                    user_flip=0,\n",
    "                )\n",
    "            )\n",
    "\n",
    "            hsv = cv2.cvtColor(img_as_ubyte(img), cv2.COLOR_BGR2HSV)\n",
    "            _, _, val = cv2.split(hsv)\n",
    "\n",
    "            mid = 20\n",
    "            mean = np.mean(val)\n",
    "            meanLog = math.log(mean)\n",
    "            midLog = math.log(mid * 255)\n",
    "            gamma = midLog / meanLog\n",
    "            gamma = 1 / gamma\n",
    "\n",
    "            img = adjust_gamma(img, gamma=gamma)\n",
    "\n",
    "            img = equalize_adapthist(img)\n",
    "\n",
    "            return img_as_ubyte(img[:, :, ::-1])"
   ]
  },
  {
   "cell_type": "code",
   "execution_count": 11,
   "id": "9741cd5a",
   "metadata": {},
   "outputs": [],
   "source": [
    "def rectify(img: np.ndarray, camera_matrix: np.ndarray, distortion_coefficients: np.ndarray) -> np.ndarray:\n",
    "    return cv2.undistort(\n",
    "        img,\n",
    "        camera_matrix,\n",
    "        distortion_coefficients,\n",
    "    )"
   ]
  },
  {
   "cell_type": "code",
   "execution_count": 12,
   "id": "e953e4e1",
   "metadata": {
    "ExecuteTime": {
     "end_time": "2025-10-15T04:43:24.539697Z",
     "start_time": "2025-10-15T04:43:17.196410Z"
    }
   },
   "outputs": [
    {
     "data": {
      "application/vnd.jupyter.widget-view+json": {
       "model_id": "d8b98e50a12348778e2b2e72dabbe855",
       "version_major": 2,
       "version_minor": 0
      },
      "text/plain": [
       "  0%|          | 0/53 [00:00<?, ?it/s]"
      ]
     },
     "metadata": {},
     "output_type": "display_data"
    },
    {
     "data": {
      "application/vnd.jupyter.widget-view+json": {
       "model_id": "a23334d17cdb41838de3a22986d3cc4e",
       "version_major": 2,
       "version_minor": 0
      },
      "text/plain": [
       "  0%|          | 0/2 [00:00<?, ?it/s]"
      ]
     },
     "metadata": {},
     "output_type": "display_data"
    },
    {
     "data": {
      "application/vnd.jupyter.widget-view+json": {
       "model_id": "3c10a2f6a7304249bf3cc30180ee9bf5",
       "version_major": 2,
       "version_minor": 0
      },
      "text/plain": [
       "  0%|          | 0/4 [00:00<?, ?it/s]"
      ]
     },
     "metadata": {},
     "output_type": "display_data"
    },
    {
     "data": {
      "application/vnd.jupyter.widget-view+json": {
       "model_id": "f4b139e2a16b46039acfa00febdb7c03",
       "version_major": 2,
       "version_minor": 0
      },
      "text/plain": [
       "  0%|          | 0/3 [00:00<?, ?it/s]"
      ]
     },
     "metadata": {},
     "output_type": "display_data"
    },
    {
     "data": {
      "application/vnd.jupyter.widget-view+json": {
       "model_id": "e46a9ba90eb14358b2dc0154d895673d",
       "version_major": 2,
       "version_minor": 0
      },
      "text/plain": [
       "  0%|          | 0/3 [00:00<?, ?it/s]"
      ]
     },
     "metadata": {},
     "output_type": "display_data"
    },
    {
     "data": {
      "application/vnd.jupyter.widget-view+json": {
       "model_id": "ec832ad9add14206a3ca213bcd875268",
       "version_major": 2,
       "version_minor": 0
      },
      "text/plain": [
       "  0%|          | 0/3 [00:00<?, ?it/s]"
      ]
     },
     "metadata": {},
     "output_type": "display_data"
    },
    {
     "data": {
      "application/vnd.jupyter.widget-view+json": {
       "model_id": "f71fbe90e0af4ed095293f8327fddaae",
       "version_major": 2,
       "version_minor": 0
      },
      "text/plain": [
       "  0%|          | 0/5 [00:00<?, ?it/s]"
      ]
     },
     "metadata": {},
     "output_type": "display_data"
    },
    {
     "data": {
      "application/vnd.jupyter.widget-view+json": {
       "model_id": "27257eb9f7d7477b8fa7a15b3597bbb5",
       "version_major": 2,
       "version_minor": 0
      },
      "text/plain": [
       "  0%|          | 0/3 [00:00<?, ?it/s]"
      ]
     },
     "metadata": {},
     "output_type": "display_data"
    },
    {
     "data": {
      "application/vnd.jupyter.widget-view+json": {
       "model_id": "ba669159406c446fb90cf3d91b3dbed9",
       "version_major": 2,
       "version_minor": 0
      },
      "text/plain": [
       "  0%|          | 0/3 [00:00<?, ?it/s]"
      ]
     },
     "metadata": {},
     "output_type": "display_data"
    },
    {
     "data": {
      "application/vnd.jupyter.widget-view+json": {
       "model_id": "e917105f397f4e608af3bb565d75838a",
       "version_major": 2,
       "version_minor": 0
      },
      "text/plain": [
       "  0%|          | 0/3 [00:00<?, ?it/s]"
      ]
     },
     "metadata": {},
     "output_type": "display_data"
    },
    {
     "data": {
      "application/vnd.jupyter.widget-view+json": {
       "model_id": "7fc88670a2874cbcb19bdbdf93b9445e",
       "version_major": 2,
       "version_minor": 0
      },
      "text/plain": [
       "  0%|          | 0/4 [00:00<?, ?it/s]"
      ]
     },
     "metadata": {},
     "output_type": "display_data"
    },
    {
     "data": {
      "application/vnd.jupyter.widget-view+json": {
       "model_id": "571aa5a512e44935918a965f1bb9b958",
       "version_major": 2,
       "version_minor": 0
      },
      "text/plain": [
       "  0%|          | 0/4 [00:00<?, ?it/s]"
      ]
     },
     "metadata": {},
     "output_type": "display_data"
    },
    {
     "data": {
      "application/vnd.jupyter.widget-view+json": {
       "model_id": "574036b9b5624b8caf86d6a6639f400c",
       "version_major": 2,
       "version_minor": 0
      },
      "text/plain": [
       "  0%|          | 0/3 [00:00<?, ?it/s]"
      ]
     },
     "metadata": {},
     "output_type": "display_data"
    },
    {
     "data": {
      "application/vnd.jupyter.widget-view+json": {
       "model_id": "a84b0eb5dab84a1cb41d67d7cc3093f3",
       "version_major": 2,
       "version_minor": 0
      },
      "text/plain": [
       "  0%|          | 0/3 [00:00<?, ?it/s]"
      ]
     },
     "metadata": {},
     "output_type": "display_data"
    },
    {
     "data": {
      "application/vnd.jupyter.widget-view+json": {
       "model_id": "8f78ecf7ee604eb88ef6d655f59c53a0",
       "version_major": 2,
       "version_minor": 0
      },
      "text/plain": [
       "  0%|          | 0/1 [00:00<?, ?it/s]"
      ]
     },
     "metadata": {},
     "output_type": "display_data"
    },
    {
     "data": {
      "application/vnd.jupyter.widget-view+json": {
       "model_id": "f1ee1cf38f594a7eb3e6aa061e8b7459",
       "version_major": 2,
       "version_minor": 0
      },
      "text/plain": [
       "  0%|          | 0/2 [00:00<?, ?it/s]"
      ]
     },
     "metadata": {},
     "output_type": "display_data"
    },
    {
     "data": {
      "application/vnd.jupyter.widget-view+json": {
       "model_id": "17373ea087fd4664a517637343292a66",
       "version_major": 2,
       "version_minor": 0
      },
      "text/plain": [
       "  0%|          | 0/2 [00:00<?, ?it/s]"
      ]
     },
     "metadata": {},
     "output_type": "display_data"
    },
    {
     "data": {
      "application/vnd.jupyter.widget-view+json": {
       "model_id": "fe585078ce8b4dbdbde8222265904c2d",
       "version_major": 2,
       "version_minor": 0
      },
      "text/plain": [
       "  0%|          | 0/2 [00:00<?, ?it/s]"
      ]
     },
     "metadata": {},
     "output_type": "display_data"
    },
    {
     "data": {
      "application/vnd.jupyter.widget-view+json": {
       "model_id": "493be7dc05fc4bd8a7a0c16ab7307565",
       "version_major": 2,
       "version_minor": 0
      },
      "text/plain": [
       "  0%|          | 0/3 [00:00<?, ?it/s]"
      ]
     },
     "metadata": {},
     "output_type": "display_data"
    },
    {
     "data": {
      "application/vnd.jupyter.widget-view+json": {
       "model_id": "760949e898fb48a9a6ee508e7514400c",
       "version_major": 2,
       "version_minor": 0
      },
      "text/plain": [
       "  0%|          | 0/2 [00:00<?, ?it/s]"
      ]
     },
     "metadata": {},
     "output_type": "display_data"
    },
    {
     "data": {
      "application/vnd.jupyter.widget-view+json": {
       "model_id": "3f8422f638c14609a62b547e4c64aed6",
       "version_major": 2,
       "version_minor": 0
      },
      "text/plain": [
       "  0%|          | 0/5 [00:00<?, ?it/s]"
      ]
     },
     "metadata": {},
     "output_type": "display_data"
    },
    {
     "data": {
      "application/vnd.jupyter.widget-view+json": {
       "model_id": "c8d59bc38dfd4dd8a3c12404fa95316c",
       "version_major": 2,
       "version_minor": 0
      },
      "text/plain": [
       "  0%|          | 0/2 [00:00<?, ?it/s]"
      ]
     },
     "metadata": {},
     "output_type": "display_data"
    },
    {
     "data": {
      "application/vnd.jupyter.widget-view+json": {
       "model_id": "a7c65cd54e4a4d92879fa428205fa2d6",
       "version_major": 2,
       "version_minor": 0
      },
      "text/plain": [
       "  0%|          | 0/2 [00:00<?, ?it/s]"
      ]
     },
     "metadata": {},
     "output_type": "display_data"
    },
    {
     "data": {
      "application/vnd.jupyter.widget-view+json": {
       "model_id": "7bf03f3e79324f598e24dc1eb99603aa",
       "version_major": 2,
       "version_minor": 0
      },
      "text/plain": [
       "  0%|          | 0/2 [00:00<?, ?it/s]"
      ]
     },
     "metadata": {},
     "output_type": "display_data"
    },
    {
     "data": {
      "application/vnd.jupyter.widget-view+json": {
       "model_id": "be73a5fb21d04f3d8f449559e47f7e90",
       "version_major": 2,
       "version_minor": 0
      },
      "text/plain": [
       "  0%|          | 0/2 [00:00<?, ?it/s]"
      ]
     },
     "metadata": {},
     "output_type": "display_data"
    },
    {
     "data": {
      "application/vnd.jupyter.widget-view+json": {
       "model_id": "1a2a7d3e09f545338c1add6d6b0d07d5",
       "version_major": 2,
       "version_minor": 0
      },
      "text/plain": [
       "  0%|          | 0/3 [00:00<?, ?it/s]"
      ]
     },
     "metadata": {},
     "output_type": "display_data"
    },
    {
     "data": {
      "application/vnd.jupyter.widget-view+json": {
       "model_id": "3513292669d9423bb99cc9276bbcc146",
       "version_major": 2,
       "version_minor": 0
      },
      "text/plain": [
       "  0%|          | 0/3 [00:00<?, ?it/s]"
      ]
     },
     "metadata": {},
     "output_type": "display_data"
    },
    {
     "data": {
      "application/vnd.jupyter.widget-view+json": {
       "model_id": "0ee83b74503642039bad775041527fda",
       "version_major": 2,
       "version_minor": 0
      },
      "text/plain": [
       "  0%|          | 0/2 [00:00<?, ?it/s]"
      ]
     },
     "metadata": {},
     "output_type": "display_data"
    },
    {
     "data": {
      "application/vnd.jupyter.widget-view+json": {
       "model_id": "0b16017f095d4ea98d3e54948c54d5ba",
       "version_major": 2,
       "version_minor": 0
      },
      "text/plain": [
       "  0%|          | 0/2 [00:00<?, ?it/s]"
      ]
     },
     "metadata": {},
     "output_type": "display_data"
    },
    {
     "data": {
      "application/vnd.jupyter.widget-view+json": {
       "model_id": "86bd8231f173451fbaf7e351fc43fd12",
       "version_major": 2,
       "version_minor": 0
      },
      "text/plain": [
       "  0%|          | 0/3 [00:00<?, ?it/s]"
      ]
     },
     "metadata": {},
     "output_type": "display_data"
    },
    {
     "data": {
      "application/vnd.jupyter.widget-view+json": {
       "model_id": "c42839541464426b869fe71c116c31e4",
       "version_major": 2,
       "version_minor": 0
      },
      "text/plain": [
       "  0%|          | 0/2 [00:00<?, ?it/s]"
      ]
     },
     "metadata": {},
     "output_type": "display_data"
    },
    {
     "data": {
      "application/vnd.jupyter.widget-view+json": {
       "model_id": "14472ba4c4bd41f5871b34aae664d64a",
       "version_major": 2,
       "version_minor": 0
      },
      "text/plain": [
       "  0%|          | 0/2 [00:00<?, ?it/s]"
      ]
     },
     "metadata": {},
     "output_type": "display_data"
    },
    {
     "data": {
      "application/vnd.jupyter.widget-view+json": {
       "model_id": "1a9a4f758f0246498cdc06484c027217",
       "version_major": 2,
       "version_minor": 0
      },
      "text/plain": [
       "  0%|          | 0/2 [00:00<?, ?it/s]"
      ]
     },
     "metadata": {},
     "output_type": "display_data"
    },
    {
     "data": {
      "application/vnd.jupyter.widget-view+json": {
       "model_id": "a89a947b9bdb48d2bdc93ed929797ac9",
       "version_major": 2,
       "version_minor": 0
      },
      "text/plain": [
       "  0%|          | 0/5 [00:00<?, ?it/s]"
      ]
     },
     "metadata": {},
     "output_type": "display_data"
    },
    {
     "data": {
      "application/vnd.jupyter.widget-view+json": {
       "model_id": "b7d0d0f7a9f14f649b4663dedf1707c1",
       "version_major": 2,
       "version_minor": 0
      },
      "text/plain": [
       "  0%|          | 0/3 [00:00<?, ?it/s]"
      ]
     },
     "metadata": {},
     "output_type": "display_data"
    },
    {
     "data": {
      "application/vnd.jupyter.widget-view+json": {
       "model_id": "d3608ae4f0d84208bb5a015065e7fde2",
       "version_major": 2,
       "version_minor": 0
      },
      "text/plain": [
       "  0%|          | 0/4 [00:00<?, ?it/s]"
      ]
     },
     "metadata": {},
     "output_type": "display_data"
    },
    {
     "data": {
      "application/vnd.jupyter.widget-view+json": {
       "model_id": "0b21eb73d3c1418f920952bc64ec622f",
       "version_major": 2,
       "version_minor": 0
      },
      "text/plain": [
       "  0%|          | 0/4 [00:00<?, ?it/s]"
      ]
     },
     "metadata": {},
     "output_type": "display_data"
    },
    {
     "data": {
      "application/vnd.jupyter.widget-view+json": {
       "model_id": "49a05aa88884435ca3fe5632e6f75ed8",
       "version_major": 2,
       "version_minor": 0
      },
      "text/plain": [
       "  0%|          | 0/2 [00:00<?, ?it/s]"
      ]
     },
     "metadata": {},
     "output_type": "display_data"
    },
    {
     "data": {
      "application/vnd.jupyter.widget-view+json": {
       "model_id": "9f0e7b2bae3442a48c99152d0106de29",
       "version_major": 2,
       "version_minor": 0
      },
      "text/plain": [
       "  0%|          | 0/3 [00:00<?, ?it/s]"
      ]
     },
     "metadata": {},
     "output_type": "display_data"
    },
    {
     "data": {
      "application/vnd.jupyter.widget-view+json": {
       "model_id": "1b04c7ad4e534aab9075dce0018c1b54",
       "version_major": 2,
       "version_minor": 0
      },
      "text/plain": [
       "  0%|          | 0/2 [00:00<?, ?it/s]"
      ]
     },
     "metadata": {},
     "output_type": "display_data"
    },
    {
     "data": {
      "application/vnd.jupyter.widget-view+json": {
       "model_id": "a59473336a844c6b8ecc7bc05a14f592",
       "version_major": 2,
       "version_minor": 0
      },
      "text/plain": [
       "  0%|          | 0/3 [00:00<?, ?it/s]"
      ]
     },
     "metadata": {},
     "output_type": "display_data"
    },
    {
     "data": {
      "application/vnd.jupyter.widget-view+json": {
       "model_id": "ac80ba608e4d49a8b65118541354eb9e",
       "version_major": 2,
       "version_minor": 0
      },
      "text/plain": [
       "  0%|          | 0/5 [00:00<?, ?it/s]"
      ]
     },
     "metadata": {},
     "output_type": "display_data"
    },
    {
     "data": {
      "application/vnd.jupyter.widget-view+json": {
       "model_id": "aa79bd304020483693d145c7455e6174",
       "version_major": 2,
       "version_minor": 0
      },
      "text/plain": [
       "  0%|          | 0/3 [00:00<?, ?it/s]"
      ]
     },
     "metadata": {},
     "output_type": "display_data"
    },
    {
     "data": {
      "application/vnd.jupyter.widget-view+json": {
       "model_id": "da753545350640e5a2d99a8d7a277bc0",
       "version_major": 2,
       "version_minor": 0
      },
      "text/plain": [
       "  0%|          | 0/2 [00:00<?, ?it/s]"
      ]
     },
     "metadata": {},
     "output_type": "display_data"
    },
    {
     "data": {
      "application/vnd.jupyter.widget-view+json": {
       "model_id": "8ceb9a49154940d0a58fb51d6eb7cce0",
       "version_major": 2,
       "version_minor": 0
      },
      "text/plain": [
       "  0%|          | 0/1 [00:00<?, ?it/s]"
      ]
     },
     "metadata": {},
     "output_type": "display_data"
    },
    {
     "data": {
      "application/vnd.jupyter.widget-view+json": {
       "model_id": "c48f9c08a7fb4bf2ae510e62597db03e",
       "version_major": 2,
       "version_minor": 0
      },
      "text/plain": [
       "  0%|          | 0/3 [00:00<?, ?it/s]"
      ]
     },
     "metadata": {},
     "output_type": "display_data"
    },
    {
     "data": {
      "application/vnd.jupyter.widget-view+json": {
       "model_id": "ffa13ec551c945c4907b2d0281e867f4",
       "version_major": 2,
       "version_minor": 0
      },
      "text/plain": [
       "  0%|          | 0/4 [00:00<?, ?it/s]"
      ]
     },
     "metadata": {},
     "output_type": "display_data"
    },
    {
     "data": {
      "application/vnd.jupyter.widget-view+json": {
       "model_id": "8f43962e3e4446589989c8447f500f69",
       "version_major": 2,
       "version_minor": 0
      },
      "text/plain": [
       "  0%|          | 0/3 [00:00<?, ?it/s]"
      ]
     },
     "metadata": {},
     "output_type": "display_data"
    },
    {
     "data": {
      "application/vnd.jupyter.widget-view+json": {
       "model_id": "20c9f2fbbb4d4b789c047693cf638e11",
       "version_major": 2,
       "version_minor": 0
      },
      "text/plain": [
       "  0%|          | 0/4 [00:00<?, ?it/s]"
      ]
     },
     "metadata": {},
     "output_type": "display_data"
    },
    {
     "data": {
      "application/vnd.jupyter.widget-view+json": {
       "model_id": "0356d61b2a10491fa44819fb3fe41e51",
       "version_major": 2,
       "version_minor": 0
      },
      "text/plain": [
       "  0%|          | 0/2 [00:00<?, ?it/s]"
      ]
     },
     "metadata": {},
     "output_type": "display_data"
    },
    {
     "data": {
      "application/vnd.jupyter.widget-view+json": {
       "model_id": "cd0bd8fc710849bfb352b007c3769933",
       "version_major": 2,
       "version_minor": 0
      },
      "text/plain": [
       "  0%|          | 0/2 [00:00<?, ?it/s]"
      ]
     },
     "metadata": {},
     "output_type": "display_data"
    },
    {
     "data": {
      "application/vnd.jupyter.widget-view+json": {
       "model_id": "0826240887e6417d88611b0f744384df",
       "version_major": 2,
       "version_minor": 0
      },
      "text/plain": [
       "  0%|          | 0/5 [00:00<?, ?it/s]"
      ]
     },
     "metadata": {},
     "output_type": "display_data"
    },
    {
     "data": {
      "application/vnd.jupyter.widget-view+json": {
       "model_id": "5efc90c503ab4f7f88c1ef605e7cecbd",
       "version_major": 2,
       "version_minor": 0
      },
      "text/plain": [
       "  0%|          | 0/6 [00:00<?, ?it/s]"
      ]
     },
     "metadata": {},
     "output_type": "display_data"
    },
    {
     "data": {
      "application/vnd.jupyter.widget-view+json": {
       "model_id": "af5b64db96634e97b58e680b6b8f16ba",
       "version_major": 2,
       "version_minor": 0
      },
      "text/plain": [
       "  0%|          | 0/2 [00:00<?, ?it/s]"
      ]
     },
     "metadata": {},
     "output_type": "display_data"
    }
   ],
   "source": [
    "for cluster in tqdm(cluster_images):\n",
    "    for idx, image in enumerate(tqdm(cluster)):\n",
    "        image_path = DATA_FOLDER / image.path\n",
    "        target_path = OUTPUT_FOLDER / f\"{image.checksum}.JPG\"\n",
    "\n",
    "        img = process_raw(image_path)\n",
    "        img = rectify(img, camera_intrinsics.camera_matrix, camera_intrinsics.distortion_coefficients)\n",
    "\n",
    "        height, width = img.shape[:2]\n",
    "\n",
    "        # Define text properties\n",
    "        text = f\"{idx + 1}/{len(cluster)}\"\n",
    "        org = (width - 350, height - 75) # Bottom-right corner of the text\n",
    "        fontFace = cv2.FONT_HERSHEY_SIMPLEX\n",
    "        fontScale = 5\n",
    "        color = (0, 0, 255) # Red color (BGR)\n",
    "        thickness = 10\n",
    "        lineType = cv2.LINE_AA\n",
    "\n",
    "        # Put the text on the image\n",
    "        cv2.putText(img, text, org, fontFace, fontScale, color, thickness, lineType)\n",
    "\n",
    "        cv2.imwrite(target_path.as_posix(), img)"
   ]
  }
 ],
 "metadata": {
  "kernelspec": {
   "display_name": "fishsense-data-processing-workflow-worker",
   "language": "python",
   "name": "python3"
  },
  "language_info": {
   "codemirror_mode": {
    "name": "ipython",
    "version": 3
   },
   "file_extension": ".py",
   "mimetype": "text/x-python",
   "name": "python",
   "nbconvert_exporter": "python",
   "pygments_lexer": "ipython3",
   "version": "3.13.7"
  }
 },
 "nbformat": 4,
 "nbformat_minor": 5
}
