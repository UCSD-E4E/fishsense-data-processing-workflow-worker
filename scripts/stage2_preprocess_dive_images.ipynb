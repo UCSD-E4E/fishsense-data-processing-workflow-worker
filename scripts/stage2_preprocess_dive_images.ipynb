{
 "cells": [
  {
   "cell_type": "code",
   "execution_count": 19,
   "id": "1ec22ea1",
   "metadata": {
    "ExecuteTime": {
     "end_time": "2025-10-15T04:42:15.180571Z",
     "start_time": "2025-10-15T04:42:14.774943Z"
    }
   },
   "outputs": [],
   "source": [
    "from fishsense_api_sdk.client import Client\n",
    "from fishsense_api_sdk.models.image import Image\n",
    "from pathlib import Path\n",
    "import asyncio\n",
    "from typing import List\n",
    "import numpy as np\n",
    "import rawpy\n",
    "import matplotlib.pyplot as plt\n",
    "from skimage.util import img_as_float, img_as_ubyte\n",
    "import cv2\n",
    "import math\n",
    "from tqdm.notebook import tqdm\n",
    "from skimage.exposure import adjust_gamma, equalize_adapthist"
   ]
  },
  {
   "cell_type": "code",
   "execution_count": 2,
   "id": "bc0951e2",
   "metadata": {
    "ExecuteTime": {
     "end_time": "2025-10-15T04:42:15.194654Z",
     "start_time": "2025-10-15T04:42:15.191948Z"
    }
   },
   "outputs": [],
   "source": [
    "URL = \"http://localhost:8000\"\n",
    "DIVE_ID = 279"
   ]
  },
  {
   "cell_type": "code",
   "execution_count": 3,
   "id": "665afb00",
   "metadata": {
    "ExecuteTime": {
     "end_time": "2025-10-15T04:42:15.372503Z",
     "start_time": "2025-10-15T04:42:15.251848Z"
    }
   },
   "outputs": [
    {
     "data": {
      "text/plain": [
       "(True, True)"
      ]
     },
     "execution_count": 3,
     "metadata": {},
     "output_type": "execute_result"
    }
   ],
   "source": [
    "DATA_FOLDER = (Path(\"../data\") / \"REEF\" / \"data\").absolute()\n",
    "OUTPUT_FOLDER = (Path(\"../output\") / \"preprocess_groups_jpeg\").absolute()\n",
    "\n",
    "DATA_FOLDER.exists(), OUTPUT_FOLDER.exists()"
   ]
  },
  {
   "cell_type": "code",
   "execution_count": 4,
   "id": "b177c16d",
   "metadata": {
    "ExecuteTime": {
     "end_time": "2025-10-15T04:42:15.388648Z",
     "start_time": "2025-10-15T04:42:15.386735Z"
    }
   },
   "outputs": [],
   "source": [
    "client = Client(URL)"
   ]
  },
  {
   "cell_type": "code",
   "execution_count": 5,
   "id": "988fd057",
   "metadata": {
    "ExecuteTime": {
     "end_time": "2025-10-15T04:42:16.823519Z",
     "start_time": "2025-10-15T04:42:15.436244Z"
    }
   },
   "outputs": [
    {
     "data": {
      "text/plain": [
       "Dive(id=279, name='111323_Alligator DeepEast Drift2_FSL05', path='drive-download-20240307T1050Z/112023_Alligator/111323_Alligator/111323_Alligator_FSL05/111323_Alligator DeepEast Drift2_FSL05', dive_datetime=datetime.datetime(2023, 11, 13, 12, 34, 8, tzinfo=TzInfo(0)), priority=<Priority.HIGH: 'HIGH'>, flip_dive_slate=None, camera_id=5, dive_slate_id=None)"
      ]
     },
     "execution_count": 5,
     "metadata": {},
     "output_type": "execute_result"
    }
   ],
   "source": [
    "dive = await client.dives.get(dive_id=DIVE_ID)\n",
    "\n",
    "dive"
   ]
  },
  {
   "cell_type": "code",
   "execution_count": 6,
   "id": "055d8747",
   "metadata": {},
   "outputs": [
    {
     "data": {
      "text/plain": [
       "Camera(id=5, serial_number='BJ6C67988', name='FSL-05')"
      ]
     },
     "execution_count": 6,
     "metadata": {},
     "output_type": "execute_result"
    }
   ],
   "source": [
    "camera = await client.cameras.get(dive.camera_id)\n",
    "\n",
    "camera"
   ]
  },
  {
   "cell_type": "code",
   "execution_count": 7,
   "id": "b0881ef8",
   "metadata": {},
   "outputs": [
    {
     "data": {
      "text/plain": [
       "<fishsense_api_sdk.models.camera_intrinsics.CameraIntrinsics at 0x7b56f2972270>"
      ]
     },
     "execution_count": 7,
     "metadata": {},
     "output_type": "execute_result"
    }
   ],
   "source": [
    "camera_intrinsics = await client.cameras.get_intrinsics(dive.camera_id)\n",
    "\n",
    "camera_intrinsics"
   ]
  },
  {
   "cell_type": "code",
   "execution_count": 8,
   "id": "c98bf998",
   "metadata": {
    "ExecuteTime": {
     "end_time": "2025-10-15T04:42:19.949080Z",
     "start_time": "2025-10-15T04:42:16.893976Z"
    }
   },
   "outputs": [
    {
     "data": {
      "text/plain": [
       "(51, 2, 78666)"
      ]
     },
     "execution_count": 8,
     "metadata": {},
     "output_type": "execute_result"
    }
   ],
   "source": [
    "clusters = await client.images.get_clusters(dive_id=DIVE_ID)\n",
    "\n",
    "len(clusters), len(clusters[0].image_ids), clusters[0].image_ids[0]"
   ]
  },
  {
   "cell_type": "code",
   "execution_count": 9,
   "id": "61e5a0fb",
   "metadata": {
    "ExecuteTime": {
     "end_time": "2025-10-15T04:43:17.023056Z",
     "start_time": "2025-10-15T04:42:20.013680Z"
    }
   },
   "outputs": [
    {
     "data": {
      "text/plain": [
       "(51,\n",
       " 2,\n",
       " Image(id=78666, path='drive-download-20240307T1050Z/112023_Alligator/111323_Alligator/111323_Alligator_FSL05/111323_Alligator DeepEast Drift2_FSL05/PB130168.ORF', taken_datetime=datetime.datetime(2023, 11, 13, 12, 3, 31, tzinfo=TzInfo(0)), checksum='7252dfb0db0b855616e45607f58c1c93', is_canonical=True, dive_id=279, camera_id=5))"
      ]
     },
     "execution_count": 9,
     "metadata": {},
     "output_type": "execute_result"
    }
   ],
   "source": [
    "cluster_images: List[List[Image]] = []\n",
    "\n",
    "for cluster in clusters:\n",
    "    cluster_images.append(await asyncio.gather(*[client.images.get(image_id=i) for i in cluster.image_ids]))\n",
    "\n",
    "len(cluster_images), len(cluster_images[0]), cluster_images[0][0]"
   ]
  },
  {
   "cell_type": "code",
   "execution_count": 10,
   "id": "84d7a30e",
   "metadata": {
    "ExecuteTime": {
     "end_time": "2025-10-15T04:43:17.150651Z",
     "start_time": "2025-10-15T04:43:17.148558Z"
    }
   },
   "outputs": [],
   "source": [
    "def process_raw(image_path: Path):\n",
    "    with image_path.open(\"rb\") as f:\n",
    "        with rawpy.imread(f) as raw:\n",
    "            img = img_as_float(\n",
    "                raw.postprocess(\n",
    "                    gamma=(1, 1),\n",
    "                    no_auto_bright=True,\n",
    "                    use_camera_wb=True,\n",
    "                    output_bps=16,\n",
    "                    user_flip=0,\n",
    "                )\n",
    "            )\n",
    "\n",
    "            hsv = cv2.cvtColor(img_as_ubyte(img), cv2.COLOR_BGR2HSV)\n",
    "            _, _, val = cv2.split(hsv)\n",
    "\n",
    "            mid = 20\n",
    "            mean = np.mean(val)\n",
    "            meanLog = math.log(mean)\n",
    "            midLog = math.log(mid * 255)\n",
    "            gamma = midLog / meanLog\n",
    "            gamma = 1 / gamma\n",
    "\n",
    "            img = adjust_gamma(img, gamma=gamma)\n",
    "\n",
    "            img = equalize_adapthist(img)\n",
    "\n",
    "            return img_as_ubyte(img[:, :, ::-1])"
   ]
  },
  {
   "cell_type": "code",
   "execution_count": 11,
   "id": "9741cd5a",
   "metadata": {},
   "outputs": [],
   "source": [
    "def rectify(img: np.ndarray, camera_matrix: np.ndarray, distortion_coefficients: np.ndarray) -> np.ndarray:\n",
    "    return cv2.undistort(\n",
    "        img,\n",
    "        camera_matrix,\n",
    "        distortion_coefficients,\n",
    "    )"
   ]
  },
  {
   "cell_type": "code",
   "execution_count": 21,
   "id": "e953e4e1",
   "metadata": {
    "ExecuteTime": {
     "end_time": "2025-10-15T04:43:24.539697Z",
     "start_time": "2025-10-15T04:43:17.196410Z"
    }
   },
   "outputs": [
    {
     "data": {
      "application/vnd.jupyter.widget-view+json": {
       "model_id": "464d8ba3c88041259de7a42f945152d1",
       "version_major": 2,
       "version_minor": 0
      },
      "text/plain": [
       "  0%|          | 0/51 [00:00<?, ?it/s]"
      ]
     },
     "metadata": {},
     "output_type": "display_data"
    },
    {
     "data": {
      "application/vnd.jupyter.widget-view+json": {
       "model_id": "25b4b551598f4d5293958cfa729071f5",
       "version_major": 2,
       "version_minor": 0
      },
      "text/plain": [
       "  0%|          | 0/2 [00:00<?, ?it/s]"
      ]
     },
     "metadata": {},
     "output_type": "display_data"
    },
    {
     "data": {
      "application/vnd.jupyter.widget-view+json": {
       "model_id": "75e7c0540f2f4f1fa4e065d4cf0e809e",
       "version_major": 2,
       "version_minor": 0
      },
      "text/plain": [
       "  0%|          | 0/4 [00:00<?, ?it/s]"
      ]
     },
     "metadata": {},
     "output_type": "display_data"
    },
    {
     "data": {
      "application/vnd.jupyter.widget-view+json": {
       "model_id": "28b5a3b893f14e76bdd1f556933a3f13",
       "version_major": 2,
       "version_minor": 0
      },
      "text/plain": [
       "  0%|          | 0/3 [00:00<?, ?it/s]"
      ]
     },
     "metadata": {},
     "output_type": "display_data"
    },
    {
     "data": {
      "application/vnd.jupyter.widget-view+json": {
       "model_id": "c4aa4ba0ec0343ffbd4734f2f8027990",
       "version_major": 2,
       "version_minor": 0
      },
      "text/plain": [
       "  0%|          | 0/3 [00:00<?, ?it/s]"
      ]
     },
     "metadata": {},
     "output_type": "display_data"
    },
    {
     "data": {
      "application/vnd.jupyter.widget-view+json": {
       "model_id": "c19be88d5cff40f4ac7427c7cc1b7e27",
       "version_major": 2,
       "version_minor": 0
      },
      "text/plain": [
       "  0%|          | 0/3 [00:00<?, ?it/s]"
      ]
     },
     "metadata": {},
     "output_type": "display_data"
    },
    {
     "data": {
      "application/vnd.jupyter.widget-view+json": {
       "model_id": "f687ec99e88b477db960435b5c8e3050",
       "version_major": 2,
       "version_minor": 0
      },
      "text/plain": [
       "  0%|          | 0/5 [00:00<?, ?it/s]"
      ]
     },
     "metadata": {},
     "output_type": "display_data"
    },
    {
     "data": {
      "application/vnd.jupyter.widget-view+json": {
       "model_id": "b9238f6f29c047ec803efa7d69c3fa33",
       "version_major": 2,
       "version_minor": 0
      },
      "text/plain": [
       "  0%|          | 0/3 [00:00<?, ?it/s]"
      ]
     },
     "metadata": {},
     "output_type": "display_data"
    },
    {
     "data": {
      "application/vnd.jupyter.widget-view+json": {
       "model_id": "f3e5c205bac2473f9849399fb16ad2c8",
       "version_major": 2,
       "version_minor": 0
      },
      "text/plain": [
       "  0%|          | 0/3 [00:00<?, ?it/s]"
      ]
     },
     "metadata": {},
     "output_type": "display_data"
    },
    {
     "data": {
      "application/vnd.jupyter.widget-view+json": {
       "model_id": "df820c71c593466183a79267aee0b597",
       "version_major": 2,
       "version_minor": 0
      },
      "text/plain": [
       "  0%|          | 0/3 [00:00<?, ?it/s]"
      ]
     },
     "metadata": {},
     "output_type": "display_data"
    },
    {
     "data": {
      "application/vnd.jupyter.widget-view+json": {
       "model_id": "0c161a22c5864df5909913f3648dab97",
       "version_major": 2,
       "version_minor": 0
      },
      "text/plain": [
       "  0%|          | 0/4 [00:00<?, ?it/s]"
      ]
     },
     "metadata": {},
     "output_type": "display_data"
    },
    {
     "data": {
      "application/vnd.jupyter.widget-view+json": {
       "model_id": "e8d7f27b20934840bf88a07f22ee543b",
       "version_major": 2,
       "version_minor": 0
      },
      "text/plain": [
       "  0%|          | 0/4 [00:00<?, ?it/s]"
      ]
     },
     "metadata": {},
     "output_type": "display_data"
    },
    {
     "data": {
      "application/vnd.jupyter.widget-view+json": {
       "model_id": "f2c9751a969f4b10bd293d4079262ad7",
       "version_major": 2,
       "version_minor": 0
      },
      "text/plain": [
       "  0%|          | 0/3 [00:00<?, ?it/s]"
      ]
     },
     "metadata": {},
     "output_type": "display_data"
    },
    {
     "data": {
      "application/vnd.jupyter.widget-view+json": {
       "model_id": "a9e37e20fbdf4c519c5de0461b896739",
       "version_major": 2,
       "version_minor": 0
      },
      "text/plain": [
       "  0%|          | 0/3 [00:00<?, ?it/s]"
      ]
     },
     "metadata": {},
     "output_type": "display_data"
    },
    {
     "data": {
      "application/vnd.jupyter.widget-view+json": {
       "model_id": "f3d4c353585f437ab927d1d6422ce68b",
       "version_major": 2,
       "version_minor": 0
      },
      "text/plain": [
       "  0%|          | 0/2 [00:00<?, ?it/s]"
      ]
     },
     "metadata": {},
     "output_type": "display_data"
    },
    {
     "data": {
      "application/vnd.jupyter.widget-view+json": {
       "model_id": "7c66d38bc4c84b73ba0c795de3ad8004",
       "version_major": 2,
       "version_minor": 0
      },
      "text/plain": [
       "  0%|          | 0/2 [00:00<?, ?it/s]"
      ]
     },
     "metadata": {},
     "output_type": "display_data"
    },
    {
     "data": {
      "application/vnd.jupyter.widget-view+json": {
       "model_id": "b4e4e2a3c6d14f0e93cb450c2a694ba7",
       "version_major": 2,
       "version_minor": 0
      },
      "text/plain": [
       "  0%|          | 0/2 [00:00<?, ?it/s]"
      ]
     },
     "metadata": {},
     "output_type": "display_data"
    },
    {
     "data": {
      "application/vnd.jupyter.widget-view+json": {
       "model_id": "536ef102a7b74da2a01374785a9e31aa",
       "version_major": 2,
       "version_minor": 0
      },
      "text/plain": [
       "  0%|          | 0/3 [00:00<?, ?it/s]"
      ]
     },
     "metadata": {},
     "output_type": "display_data"
    },
    {
     "data": {
      "application/vnd.jupyter.widget-view+json": {
       "model_id": "ff6d1260d7af4100b34a4b8c6dbdb6a4",
       "version_major": 2,
       "version_minor": 0
      },
      "text/plain": [
       "  0%|          | 0/2 [00:00<?, ?it/s]"
      ]
     },
     "metadata": {},
     "output_type": "display_data"
    },
    {
     "data": {
      "application/vnd.jupyter.widget-view+json": {
       "model_id": "ce631ee6ef7f4dc89dcf5bb59ac8ff86",
       "version_major": 2,
       "version_minor": 0
      },
      "text/plain": [
       "  0%|          | 0/5 [00:00<?, ?it/s]"
      ]
     },
     "metadata": {},
     "output_type": "display_data"
    },
    {
     "data": {
      "application/vnd.jupyter.widget-view+json": {
       "model_id": "ed5ad9f3630444bfa94903b52f1232ae",
       "version_major": 2,
       "version_minor": 0
      },
      "text/plain": [
       "  0%|          | 0/2 [00:00<?, ?it/s]"
      ]
     },
     "metadata": {},
     "output_type": "display_data"
    },
    {
     "data": {
      "application/vnd.jupyter.widget-view+json": {
       "model_id": "a5c2c6d967f14d6ea598a181adb1c993",
       "version_major": 2,
       "version_minor": 0
      },
      "text/plain": [
       "  0%|          | 0/2 [00:00<?, ?it/s]"
      ]
     },
     "metadata": {},
     "output_type": "display_data"
    },
    {
     "data": {
      "application/vnd.jupyter.widget-view+json": {
       "model_id": "3b41ba66e8c947f7a5e627ed9c463e9a",
       "version_major": 2,
       "version_minor": 0
      },
      "text/plain": [
       "  0%|          | 0/2 [00:00<?, ?it/s]"
      ]
     },
     "metadata": {},
     "output_type": "display_data"
    },
    {
     "data": {
      "application/vnd.jupyter.widget-view+json": {
       "model_id": "bb6a56dd9079486f9eb0c37ea157c1b2",
       "version_major": 2,
       "version_minor": 0
      },
      "text/plain": [
       "  0%|          | 0/2 [00:00<?, ?it/s]"
      ]
     },
     "metadata": {},
     "output_type": "display_data"
    },
    {
     "data": {
      "application/vnd.jupyter.widget-view+json": {
       "model_id": "f6e628981c994f8495e2d6dceaddbfc8",
       "version_major": 2,
       "version_minor": 0
      },
      "text/plain": [
       "  0%|          | 0/3 [00:00<?, ?it/s]"
      ]
     },
     "metadata": {},
     "output_type": "display_data"
    },
    {
     "data": {
      "application/vnd.jupyter.widget-view+json": {
       "model_id": "381925370ca041098b8e74d014029844",
       "version_major": 2,
       "version_minor": 0
      },
      "text/plain": [
       "  0%|          | 0/3 [00:00<?, ?it/s]"
      ]
     },
     "metadata": {},
     "output_type": "display_data"
    },
    {
     "data": {
      "application/vnd.jupyter.widget-view+json": {
       "model_id": "810acab4eab04215b3939f540f2bc79e",
       "version_major": 2,
       "version_minor": 0
      },
      "text/plain": [
       "  0%|          | 0/2 [00:00<?, ?it/s]"
      ]
     },
     "metadata": {},
     "output_type": "display_data"
    },
    {
     "data": {
      "application/vnd.jupyter.widget-view+json": {
       "model_id": "9330e11fb9624bcc9b76285fdbdede56",
       "version_major": 2,
       "version_minor": 0
      },
      "text/plain": [
       "  0%|          | 0/2 [00:00<?, ?it/s]"
      ]
     },
     "metadata": {},
     "output_type": "display_data"
    },
    {
     "data": {
      "application/vnd.jupyter.widget-view+json": {
       "model_id": "f88566ced35145f19a91063d817dfa09",
       "version_major": 2,
       "version_minor": 0
      },
      "text/plain": [
       "  0%|          | 0/3 [00:00<?, ?it/s]"
      ]
     },
     "metadata": {},
     "output_type": "display_data"
    },
    {
     "data": {
      "application/vnd.jupyter.widget-view+json": {
       "model_id": "138a2542fc4e4c6ba460d27e0a0aae50",
       "version_major": 2,
       "version_minor": 0
      },
      "text/plain": [
       "  0%|          | 0/2 [00:00<?, ?it/s]"
      ]
     },
     "metadata": {},
     "output_type": "display_data"
    },
    {
     "data": {
      "application/vnd.jupyter.widget-view+json": {
       "model_id": "19944cbbc1b24f1489ab8585412150b8",
       "version_major": 2,
       "version_minor": 0
      },
      "text/plain": [
       "  0%|          | 0/2 [00:00<?, ?it/s]"
      ]
     },
     "metadata": {},
     "output_type": "display_data"
    },
    {
     "data": {
      "application/vnd.jupyter.widget-view+json": {
       "model_id": "95330ceefcf443ffa1e3487a6076b54b",
       "version_major": 2,
       "version_minor": 0
      },
      "text/plain": [
       "  0%|          | 0/2 [00:00<?, ?it/s]"
      ]
     },
     "metadata": {},
     "output_type": "display_data"
    },
    {
     "data": {
      "application/vnd.jupyter.widget-view+json": {
       "model_id": "3d200659942d420e8b0f5cb991dbcab6",
       "version_major": 2,
       "version_minor": 0
      },
      "text/plain": [
       "  0%|          | 0/5 [00:00<?, ?it/s]"
      ]
     },
     "metadata": {},
     "output_type": "display_data"
    },
    {
     "data": {
      "application/vnd.jupyter.widget-view+json": {
       "model_id": "8692b526109745ceb3b2212a2436ac9d",
       "version_major": 2,
       "version_minor": 0
      },
      "text/plain": [
       "  0%|          | 0/3 [00:00<?, ?it/s]"
      ]
     },
     "metadata": {},
     "output_type": "display_data"
    },
    {
     "data": {
      "application/vnd.jupyter.widget-view+json": {
       "model_id": "e4aa45e3e7b8494b8a206d961de6100f",
       "version_major": 2,
       "version_minor": 0
      },
      "text/plain": [
       "  0%|          | 0/4 [00:00<?, ?it/s]"
      ]
     },
     "metadata": {},
     "output_type": "display_data"
    },
    {
     "data": {
      "application/vnd.jupyter.widget-view+json": {
       "model_id": "d702b21da94443408eb0598c47757e0a",
       "version_major": 2,
       "version_minor": 0
      },
      "text/plain": [
       "  0%|          | 0/4 [00:00<?, ?it/s]"
      ]
     },
     "metadata": {},
     "output_type": "display_data"
    },
    {
     "data": {
      "application/vnd.jupyter.widget-view+json": {
       "model_id": "8fb9b7ae00f44d82b5cbc689b1a92ba4",
       "version_major": 2,
       "version_minor": 0
      },
      "text/plain": [
       "  0%|          | 0/2 [00:00<?, ?it/s]"
      ]
     },
     "metadata": {},
     "output_type": "display_data"
    },
    {
     "data": {
      "application/vnd.jupyter.widget-view+json": {
       "model_id": "b7c007b5a6e54afface2e2e4575e4172",
       "version_major": 2,
       "version_minor": 0
      },
      "text/plain": [
       "  0%|          | 0/3 [00:00<?, ?it/s]"
      ]
     },
     "metadata": {},
     "output_type": "display_data"
    },
    {
     "data": {
      "application/vnd.jupyter.widget-view+json": {
       "model_id": "66ab26bb890c470eae31b91e4b7421bb",
       "version_major": 2,
       "version_minor": 0
      },
      "text/plain": [
       "  0%|          | 0/2 [00:00<?, ?it/s]"
      ]
     },
     "metadata": {},
     "output_type": "display_data"
    },
    {
     "data": {
      "application/vnd.jupyter.widget-view+json": {
       "model_id": "be14ae31115e4625ab0c087131633062",
       "version_major": 2,
       "version_minor": 0
      },
      "text/plain": [
       "  0%|          | 0/3 [00:00<?, ?it/s]"
      ]
     },
     "metadata": {},
     "output_type": "display_data"
    },
    {
     "data": {
      "application/vnd.jupyter.widget-view+json": {
       "model_id": "bdb7aae6dcfc42ca855348bce6b80f5e",
       "version_major": 2,
       "version_minor": 0
      },
      "text/plain": [
       "  0%|          | 0/5 [00:00<?, ?it/s]"
      ]
     },
     "metadata": {},
     "output_type": "display_data"
    },
    {
     "data": {
      "application/vnd.jupyter.widget-view+json": {
       "model_id": "e93d9036ccb24b9194daf668d0d20ae8",
       "version_major": 2,
       "version_minor": 0
      },
      "text/plain": [
       "  0%|          | 0/3 [00:00<?, ?it/s]"
      ]
     },
     "metadata": {},
     "output_type": "display_data"
    },
    {
     "data": {
      "application/vnd.jupyter.widget-view+json": {
       "model_id": "cc12fbb8dfff45afbf3dbd3bc4ae3220",
       "version_major": 2,
       "version_minor": 0
      },
      "text/plain": [
       "  0%|          | 0/2 [00:00<?, ?it/s]"
      ]
     },
     "metadata": {},
     "output_type": "display_data"
    },
    {
     "data": {
      "application/vnd.jupyter.widget-view+json": {
       "model_id": "6da52073e6454cc4a30101eff26279e8",
       "version_major": 2,
       "version_minor": 0
      },
      "text/plain": [
       "  0%|          | 0/3 [00:00<?, ?it/s]"
      ]
     },
     "metadata": {},
     "output_type": "display_data"
    },
    {
     "data": {
      "application/vnd.jupyter.widget-view+json": {
       "model_id": "f8bd2dcd5c6f4757ad3d6b5f4bd9c593",
       "version_major": 2,
       "version_minor": 0
      },
      "text/plain": [
       "  0%|          | 0/4 [00:00<?, ?it/s]"
      ]
     },
     "metadata": {},
     "output_type": "display_data"
    },
    {
     "data": {
      "application/vnd.jupyter.widget-view+json": {
       "model_id": "762f04f5bd014bbf98d14e8c81d0cfed",
       "version_major": 2,
       "version_minor": 0
      },
      "text/plain": [
       "  0%|          | 0/3 [00:00<?, ?it/s]"
      ]
     },
     "metadata": {},
     "output_type": "display_data"
    },
    {
     "data": {
      "application/vnd.jupyter.widget-view+json": {
       "model_id": "44b4b8a2a7514611963ea782514ff8d8",
       "version_major": 2,
       "version_minor": 0
      },
      "text/plain": [
       "  0%|          | 0/4 [00:00<?, ?it/s]"
      ]
     },
     "metadata": {},
     "output_type": "display_data"
    },
    {
     "data": {
      "application/vnd.jupyter.widget-view+json": {
       "model_id": "0dbac241e6094dc0a436fae02c8a77ea",
       "version_major": 2,
       "version_minor": 0
      },
      "text/plain": [
       "  0%|          | 0/2 [00:00<?, ?it/s]"
      ]
     },
     "metadata": {},
     "output_type": "display_data"
    },
    {
     "data": {
      "application/vnd.jupyter.widget-view+json": {
       "model_id": "f670a3027ea24510aa4d96f07b4e0eff",
       "version_major": 2,
       "version_minor": 0
      },
      "text/plain": [
       "  0%|          | 0/2 [00:00<?, ?it/s]"
      ]
     },
     "metadata": {},
     "output_type": "display_data"
    },
    {
     "data": {
      "application/vnd.jupyter.widget-view+json": {
       "model_id": "b78f275078d142dca905a4a52c98cd70",
       "version_major": 2,
       "version_minor": 0
      },
      "text/plain": [
       "  0%|          | 0/5 [00:00<?, ?it/s]"
      ]
     },
     "metadata": {},
     "output_type": "display_data"
    },
    {
     "data": {
      "application/vnd.jupyter.widget-view+json": {
       "model_id": "821df7bb4a394c38be9eba5f48d5fefb",
       "version_major": 2,
       "version_minor": 0
      },
      "text/plain": [
       "  0%|          | 0/6 [00:00<?, ?it/s]"
      ]
     },
     "metadata": {},
     "output_type": "display_data"
    },
    {
     "data": {
      "application/vnd.jupyter.widget-view+json": {
       "model_id": "7c65705cd2044478b32c0b96e24915a7",
       "version_major": 2,
       "version_minor": 0
      },
      "text/plain": [
       "  0%|          | 0/2 [00:00<?, ?it/s]"
      ]
     },
     "metadata": {},
     "output_type": "display_data"
    }
   ],
   "source": [
    "for cluster in tqdm(cluster_images):\n",
    "    for idx, image in enumerate(tqdm(cluster)):\n",
    "        image_path = DATA_FOLDER / image.path\n",
    "        target_path = OUTPUT_FOLDER / f\"{image.checksum}.jpg\"\n",
    "\n",
    "        img = process_raw(image_path)\n",
    "        img = rectify(img, camera_intrinsics.camera_matrix, camera_intrinsics.distortion_coefficients)\n",
    "\n",
    "        height, width = img.shape[:2]\n",
    "\n",
    "        # Define text properties\n",
    "        text = f\"{idx + 1}/{len(cluster)}\"\n",
    "        org = (width - 350, height - 75) # Bottom-right corner of the text\n",
    "        fontFace = cv2.FONT_HERSHEY_SIMPLEX\n",
    "        fontScale = 5\n",
    "        color = (0, 0, 255) # Red color (BGR)\n",
    "        thickness = 10\n",
    "        lineType = cv2.LINE_AA\n",
    "\n",
    "        # Put the text on the image\n",
    "        cv2.putText(img, text, org, fontFace, fontScale, color, thickness, lineType)\n",
    "\n",
    "        cv2.imwrite(target_path.as_posix(), img)"
   ]
  }
 ],
 "metadata": {
  "kernelspec": {
   "display_name": "fishsense-data-processing-workflow-worker",
   "language": "python",
   "name": "python3"
  },
  "language_info": {
   "codemirror_mode": {
    "name": "ipython",
    "version": 3
   },
   "file_extension": ".py",
   "mimetype": "text/x-python",
   "name": "python",
   "nbconvert_exporter": "python",
   "pygments_lexer": "ipython3",
   "version": "3.13.7"
  }
 },
 "nbformat": 4,
 "nbformat_minor": 5
}
