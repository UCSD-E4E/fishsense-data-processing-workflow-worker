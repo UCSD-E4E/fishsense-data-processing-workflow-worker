{
 "cells": [
  {
   "cell_type": "code",
   "execution_count": 1,
   "id": "4e6f23a0",
   "metadata": {},
   "outputs": [],
   "source": [
    "from fishsense_data_processing_workflow_worker.database import Database\n",
    "from sqlmodel.ext.asyncio.session import AsyncSession\n",
    "import asyncio\n",
    "from pathlib import Path\n",
    "from skimage.util import img_as_ubyte\n",
    "from fishsense.image.image_processors.raw_processor import RawProcessor\n",
    "from fishsense.calibration import LensCalibration, LaserCalibration\n",
    "import matplotlib.pyplot as plt\n",
    "from fishsense.image import ImageRectifier\n",
    "import cv2\n",
    "import numpy as np\n",
    "from label_studio_sdk.client import LabelStudio"
   ]
  },
  {
   "cell_type": "code",
   "execution_count": null,
   "id": "cc5710e0",
   "metadata": {},
   "outputs": [],
   "source": []
  },
  {
   "cell_type": "code",
   "execution_count": 3,
   "id": "468b4dd2",
   "metadata": {},
   "outputs": [],
   "source": [
    "database = Database(PG_CONNECTION_STRING)"
   ]
  },
  {
   "cell_type": "code",
   "execution_count": 4,
   "id": "bb93f09e",
   "metadata": {},
   "outputs": [
    {
     "data": {
      "text/plain": [
       "[DiveFrameCluster(dive_id=279, id=621),\n",
       " DiveFrameCluster(dive_id=279, id=622),\n",
       " DiveFrameCluster(dive_id=279, id=623),\n",
       " DiveFrameCluster(dive_id=279, id=624),\n",
       " DiveFrameCluster(dive_id=279, id=625),\n",
       " DiveFrameCluster(dive_id=279, id=626),\n",
       " DiveFrameCluster(dive_id=279, id=627),\n",
       " DiveFrameCluster(dive_id=279, id=628),\n",
       " DiveFrameCluster(dive_id=279, id=629),\n",
       " DiveFrameCluster(dive_id=279, id=630),\n",
       " DiveFrameCluster(dive_id=279, id=631),\n",
       " DiveFrameCluster(dive_id=279, id=632),\n",
       " DiveFrameCluster(dive_id=279, id=633),\n",
       " DiveFrameCluster(dive_id=279, id=634),\n",
       " DiveFrameCluster(dive_id=279, id=635),\n",
       " DiveFrameCluster(dive_id=279, id=636),\n",
       " DiveFrameCluster(dive_id=279, id=637),\n",
       " DiveFrameCluster(dive_id=279, id=638),\n",
       " DiveFrameCluster(dive_id=279, id=639),\n",
       " DiveFrameCluster(dive_id=279, id=640),\n",
       " DiveFrameCluster(dive_id=279, id=641),\n",
       " DiveFrameCluster(dive_id=279, id=642),\n",
       " DiveFrameCluster(dive_id=279, id=643),\n",
       " DiveFrameCluster(dive_id=279, id=644),\n",
       " DiveFrameCluster(dive_id=279, id=645),\n",
       " DiveFrameCluster(dive_id=279, id=646),\n",
       " DiveFrameCluster(dive_id=279, id=647),\n",
       " DiveFrameCluster(dive_id=279, id=648),\n",
       " DiveFrameCluster(dive_id=279, id=649),\n",
       " DiveFrameCluster(dive_id=279, id=650),\n",
       " DiveFrameCluster(dive_id=279, id=651),\n",
       " DiveFrameCluster(dive_id=279, id=652),\n",
       " DiveFrameCluster(dive_id=279, id=653),\n",
       " DiveFrameCluster(dive_id=279, id=654),\n",
       " DiveFrameCluster(dive_id=279, id=655),\n",
       " DiveFrameCluster(dive_id=279, id=656),\n",
       " DiveFrameCluster(dive_id=279, id=657),\n",
       " DiveFrameCluster(dive_id=279, id=658),\n",
       " DiveFrameCluster(dive_id=279, id=659),\n",
       " DiveFrameCluster(dive_id=279, id=660),\n",
       " DiveFrameCluster(dive_id=279, id=661),\n",
       " DiveFrameCluster(dive_id=279, id=662),\n",
       " DiveFrameCluster(dive_id=279, id=663),\n",
       " DiveFrameCluster(dive_id=279, id=664),\n",
       " DiveFrameCluster(dive_id=279, id=665),\n",
       " DiveFrameCluster(dive_id=279, id=666),\n",
       " DiveFrameCluster(dive_id=279, id=667),\n",
       " DiveFrameCluster(dive_id=279, id=668),\n",
       " DiveFrameCluster(dive_id=279, id=669),\n",
       " DiveFrameCluster(dive_id=279, id=670),\n",
       " DiveFrameCluster(dive_id=279, id=671)]"
      ]
     },
     "execution_count": 4,
     "metadata": {},
     "output_type": "execute_result"
    }
   ],
   "source": [
    "clusters = await database.select_dive_frame_clusters()\n",
    "\n",
    "clusters"
   ]
  },
  {
   "cell_type": "code",
   "execution_count": 5,
   "id": "3ad598c3",
   "metadata": {},
   "outputs": [
    {
     "data": {
      "text/plain": [
       "[[DiveFrameClusterImageMapping(image_id=78666, dive_frame_cluster_id=621),\n",
       "  DiveFrameClusterImageMapping(image_id=78667, dive_frame_cluster_id=621)],\n",
       " [DiveFrameClusterImageMapping(image_id=78670, dive_frame_cluster_id=622),\n",
       "  DiveFrameClusterImageMapping(image_id=78669, dive_frame_cluster_id=622),\n",
       "  DiveFrameClusterImageMapping(image_id=78671, dive_frame_cluster_id=622),\n",
       "  DiveFrameClusterImageMapping(image_id=78668, dive_frame_cluster_id=622)],\n",
       " [DiveFrameClusterImageMapping(image_id=78674, dive_frame_cluster_id=623),\n",
       "  DiveFrameClusterImageMapping(image_id=78673, dive_frame_cluster_id=623),\n",
       "  DiveFrameClusterImageMapping(image_id=78672, dive_frame_cluster_id=623)],\n",
       " [DiveFrameClusterImageMapping(image_id=78675, dive_frame_cluster_id=624),\n",
       "  DiveFrameClusterImageMapping(image_id=78676, dive_frame_cluster_id=624),\n",
       "  DiveFrameClusterImageMapping(image_id=78677, dive_frame_cluster_id=624)],\n",
       " [DiveFrameClusterImageMapping(image_id=78678, dive_frame_cluster_id=625),\n",
       "  DiveFrameClusterImageMapping(image_id=78679, dive_frame_cluster_id=625),\n",
       "  DiveFrameClusterImageMapping(image_id=78680, dive_frame_cluster_id=625)],\n",
       " [DiveFrameClusterImageMapping(image_id=78682, dive_frame_cluster_id=626),\n",
       "  DiveFrameClusterImageMapping(image_id=78683, dive_frame_cluster_id=626),\n",
       "  DiveFrameClusterImageMapping(image_id=78684, dive_frame_cluster_id=626),\n",
       "  DiveFrameClusterImageMapping(image_id=78681, dive_frame_cluster_id=626),\n",
       "  DiveFrameClusterImageMapping(image_id=78685, dive_frame_cluster_id=626)],\n",
       " [DiveFrameClusterImageMapping(image_id=78688, dive_frame_cluster_id=627),\n",
       "  DiveFrameClusterImageMapping(image_id=78687, dive_frame_cluster_id=627),\n",
       "  DiveFrameClusterImageMapping(image_id=78686, dive_frame_cluster_id=627)],\n",
       " [DiveFrameClusterImageMapping(image_id=78691, dive_frame_cluster_id=628),\n",
       "  DiveFrameClusterImageMapping(image_id=78690, dive_frame_cluster_id=628),\n",
       "  DiveFrameClusterImageMapping(image_id=78689, dive_frame_cluster_id=628)],\n",
       " [DiveFrameClusterImageMapping(image_id=78692, dive_frame_cluster_id=629),\n",
       "  DiveFrameClusterImageMapping(image_id=78694, dive_frame_cluster_id=629),\n",
       "  DiveFrameClusterImageMapping(image_id=78693, dive_frame_cluster_id=629)],\n",
       " [DiveFrameClusterImageMapping(image_id=78696, dive_frame_cluster_id=630),\n",
       "  DiveFrameClusterImageMapping(image_id=78695, dive_frame_cluster_id=630),\n",
       "  DiveFrameClusterImageMapping(image_id=78697, dive_frame_cluster_id=630),\n",
       "  DiveFrameClusterImageMapping(image_id=78698, dive_frame_cluster_id=630)],\n",
       " [DiveFrameClusterImageMapping(image_id=78699, dive_frame_cluster_id=631),\n",
       "  DiveFrameClusterImageMapping(image_id=78701, dive_frame_cluster_id=631),\n",
       "  DiveFrameClusterImageMapping(image_id=78700, dive_frame_cluster_id=631),\n",
       "  DiveFrameClusterImageMapping(image_id=78702, dive_frame_cluster_id=631)],\n",
       " [DiveFrameClusterImageMapping(image_id=78704, dive_frame_cluster_id=632),\n",
       "  DiveFrameClusterImageMapping(image_id=78703, dive_frame_cluster_id=632),\n",
       "  DiveFrameClusterImageMapping(image_id=78705, dive_frame_cluster_id=632)],\n",
       " [DiveFrameClusterImageMapping(image_id=78706, dive_frame_cluster_id=633),\n",
       "  DiveFrameClusterImageMapping(image_id=78707, dive_frame_cluster_id=633),\n",
       "  DiveFrameClusterImageMapping(image_id=78708, dive_frame_cluster_id=633)],\n",
       " [DiveFrameClusterImageMapping(image_id=78711, dive_frame_cluster_id=634),\n",
       "  DiveFrameClusterImageMapping(image_id=78710, dive_frame_cluster_id=634)],\n",
       " [DiveFrameClusterImageMapping(image_id=78713, dive_frame_cluster_id=635),\n",
       "  DiveFrameClusterImageMapping(image_id=78712, dive_frame_cluster_id=635)],\n",
       " [DiveFrameClusterImageMapping(image_id=78715, dive_frame_cluster_id=636),\n",
       "  DiveFrameClusterImageMapping(image_id=78714, dive_frame_cluster_id=636)],\n",
       " [DiveFrameClusterImageMapping(image_id=78716, dive_frame_cluster_id=637),\n",
       "  DiveFrameClusterImageMapping(image_id=78717, dive_frame_cluster_id=637),\n",
       "  DiveFrameClusterImageMapping(image_id=78718, dive_frame_cluster_id=637)],\n",
       " [DiveFrameClusterImageMapping(image_id=78720, dive_frame_cluster_id=638),\n",
       "  DiveFrameClusterImageMapping(image_id=78719, dive_frame_cluster_id=638)],\n",
       " [DiveFrameClusterImageMapping(image_id=78721, dive_frame_cluster_id=639),\n",
       "  DiveFrameClusterImageMapping(image_id=78724, dive_frame_cluster_id=639),\n",
       "  DiveFrameClusterImageMapping(image_id=78722, dive_frame_cluster_id=639),\n",
       "  DiveFrameClusterImageMapping(image_id=78725, dive_frame_cluster_id=639),\n",
       "  DiveFrameClusterImageMapping(image_id=78723, dive_frame_cluster_id=639)],\n",
       " [DiveFrameClusterImageMapping(image_id=78726, dive_frame_cluster_id=640),\n",
       "  DiveFrameClusterImageMapping(image_id=78727, dive_frame_cluster_id=640)],\n",
       " [DiveFrameClusterImageMapping(image_id=78729, dive_frame_cluster_id=641),\n",
       "  DiveFrameClusterImageMapping(image_id=78728, dive_frame_cluster_id=641)],\n",
       " [DiveFrameClusterImageMapping(image_id=78731, dive_frame_cluster_id=642),\n",
       "  DiveFrameClusterImageMapping(image_id=78730, dive_frame_cluster_id=642)],\n",
       " [DiveFrameClusterImageMapping(image_id=78732, dive_frame_cluster_id=643),\n",
       "  DiveFrameClusterImageMapping(image_id=78733, dive_frame_cluster_id=643)],\n",
       " [DiveFrameClusterImageMapping(image_id=78734, dive_frame_cluster_id=644),\n",
       "  DiveFrameClusterImageMapping(image_id=78735, dive_frame_cluster_id=644),\n",
       "  DiveFrameClusterImageMapping(image_id=78736, dive_frame_cluster_id=644)],\n",
       " [DiveFrameClusterImageMapping(image_id=78737, dive_frame_cluster_id=645),\n",
       "  DiveFrameClusterImageMapping(image_id=78738, dive_frame_cluster_id=645),\n",
       "  DiveFrameClusterImageMapping(image_id=78739, dive_frame_cluster_id=645)],\n",
       " [DiveFrameClusterImageMapping(image_id=78740, dive_frame_cluster_id=646),\n",
       "  DiveFrameClusterImageMapping(image_id=78741, dive_frame_cluster_id=646)],\n",
       " [DiveFrameClusterImageMapping(image_id=78743, dive_frame_cluster_id=647),\n",
       "  DiveFrameClusterImageMapping(image_id=78742, dive_frame_cluster_id=647)],\n",
       " [DiveFrameClusterImageMapping(image_id=78745, dive_frame_cluster_id=648),\n",
       "  DiveFrameClusterImageMapping(image_id=78744, dive_frame_cluster_id=648),\n",
       "  DiveFrameClusterImageMapping(image_id=78746, dive_frame_cluster_id=648)],\n",
       " [DiveFrameClusterImageMapping(image_id=78748, dive_frame_cluster_id=649),\n",
       "  DiveFrameClusterImageMapping(image_id=78747, dive_frame_cluster_id=649)],\n",
       " [DiveFrameClusterImageMapping(image_id=78750, dive_frame_cluster_id=650),\n",
       "  DiveFrameClusterImageMapping(image_id=78749, dive_frame_cluster_id=650)],\n",
       " [DiveFrameClusterImageMapping(image_id=78751, dive_frame_cluster_id=651),\n",
       "  DiveFrameClusterImageMapping(image_id=78752, dive_frame_cluster_id=651)],\n",
       " [DiveFrameClusterImageMapping(image_id=78753, dive_frame_cluster_id=652),\n",
       "  DiveFrameClusterImageMapping(image_id=78756, dive_frame_cluster_id=652),\n",
       "  DiveFrameClusterImageMapping(image_id=78757, dive_frame_cluster_id=652),\n",
       "  DiveFrameClusterImageMapping(image_id=78754, dive_frame_cluster_id=652),\n",
       "  DiveFrameClusterImageMapping(image_id=78755, dive_frame_cluster_id=652)],\n",
       " [DiveFrameClusterImageMapping(image_id=78759, dive_frame_cluster_id=653),\n",
       "  DiveFrameClusterImageMapping(image_id=78758, dive_frame_cluster_id=653),\n",
       "  DiveFrameClusterImageMapping(image_id=78760, dive_frame_cluster_id=653)],\n",
       " [DiveFrameClusterImageMapping(image_id=78761, dive_frame_cluster_id=654),\n",
       "  DiveFrameClusterImageMapping(image_id=78763, dive_frame_cluster_id=654),\n",
       "  DiveFrameClusterImageMapping(image_id=78762, dive_frame_cluster_id=654),\n",
       "  DiveFrameClusterImageMapping(image_id=78764, dive_frame_cluster_id=654)],\n",
       " [DiveFrameClusterImageMapping(image_id=78766, dive_frame_cluster_id=655),\n",
       "  DiveFrameClusterImageMapping(image_id=78768, dive_frame_cluster_id=655),\n",
       "  DiveFrameClusterImageMapping(image_id=78767, dive_frame_cluster_id=655),\n",
       "  DiveFrameClusterImageMapping(image_id=78765, dive_frame_cluster_id=655)],\n",
       " [DiveFrameClusterImageMapping(image_id=78769, dive_frame_cluster_id=656),\n",
       "  DiveFrameClusterImageMapping(image_id=78770, dive_frame_cluster_id=656)],\n",
       " [DiveFrameClusterImageMapping(image_id=78772, dive_frame_cluster_id=657),\n",
       "  DiveFrameClusterImageMapping(image_id=78773, dive_frame_cluster_id=657),\n",
       "  DiveFrameClusterImageMapping(image_id=78771, dive_frame_cluster_id=657)],\n",
       " [DiveFrameClusterImageMapping(image_id=78775, dive_frame_cluster_id=658),\n",
       "  DiveFrameClusterImageMapping(image_id=78774, dive_frame_cluster_id=658)],\n",
       " [DiveFrameClusterImageMapping(image_id=78778, dive_frame_cluster_id=659),\n",
       "  DiveFrameClusterImageMapping(image_id=78777, dive_frame_cluster_id=659),\n",
       "  DiveFrameClusterImageMapping(image_id=78776, dive_frame_cluster_id=659)],\n",
       " [DiveFrameClusterImageMapping(image_id=78781, dive_frame_cluster_id=660),\n",
       "  DiveFrameClusterImageMapping(image_id=78780, dive_frame_cluster_id=660),\n",
       "  DiveFrameClusterImageMapping(image_id=78779, dive_frame_cluster_id=660),\n",
       "  DiveFrameClusterImageMapping(image_id=78783, dive_frame_cluster_id=660),\n",
       "  DiveFrameClusterImageMapping(image_id=78782, dive_frame_cluster_id=660)],\n",
       " [DiveFrameClusterImageMapping(image_id=78786, dive_frame_cluster_id=661),\n",
       "  DiveFrameClusterImageMapping(image_id=78785, dive_frame_cluster_id=661),\n",
       "  DiveFrameClusterImageMapping(image_id=78784, dive_frame_cluster_id=661)],\n",
       " [DiveFrameClusterImageMapping(image_id=78787, dive_frame_cluster_id=662),\n",
       "  DiveFrameClusterImageMapping(image_id=78788, dive_frame_cluster_id=662)],\n",
       " [DiveFrameClusterImageMapping(image_id=78792, dive_frame_cluster_id=663),\n",
       "  DiveFrameClusterImageMapping(image_id=78790, dive_frame_cluster_id=663),\n",
       "  DiveFrameClusterImageMapping(image_id=78791, dive_frame_cluster_id=663)],\n",
       " [DiveFrameClusterImageMapping(image_id=78793, dive_frame_cluster_id=664),\n",
       "  DiveFrameClusterImageMapping(image_id=78795, dive_frame_cluster_id=664),\n",
       "  DiveFrameClusterImageMapping(image_id=78794, dive_frame_cluster_id=664),\n",
       "  DiveFrameClusterImageMapping(image_id=78796, dive_frame_cluster_id=664)],\n",
       " [DiveFrameClusterImageMapping(image_id=78798, dive_frame_cluster_id=665),\n",
       "  DiveFrameClusterImageMapping(image_id=78797, dive_frame_cluster_id=665),\n",
       "  DiveFrameClusterImageMapping(image_id=78799, dive_frame_cluster_id=665)],\n",
       " [DiveFrameClusterImageMapping(image_id=78800, dive_frame_cluster_id=666),\n",
       "  DiveFrameClusterImageMapping(image_id=78803, dive_frame_cluster_id=666),\n",
       "  DiveFrameClusterImageMapping(image_id=78802, dive_frame_cluster_id=666),\n",
       "  DiveFrameClusterImageMapping(image_id=78801, dive_frame_cluster_id=666)],\n",
       " [DiveFrameClusterImageMapping(image_id=78804, dive_frame_cluster_id=667),\n",
       "  DiveFrameClusterImageMapping(image_id=78805, dive_frame_cluster_id=667)],\n",
       " [DiveFrameClusterImageMapping(image_id=78807, dive_frame_cluster_id=668),\n",
       "  DiveFrameClusterImageMapping(image_id=78806, dive_frame_cluster_id=668)],\n",
       " [DiveFrameClusterImageMapping(image_id=78808, dive_frame_cluster_id=669),\n",
       "  DiveFrameClusterImageMapping(image_id=78812, dive_frame_cluster_id=669),\n",
       "  DiveFrameClusterImageMapping(image_id=78810, dive_frame_cluster_id=669),\n",
       "  DiveFrameClusterImageMapping(image_id=78809, dive_frame_cluster_id=669),\n",
       "  DiveFrameClusterImageMapping(image_id=78811, dive_frame_cluster_id=669)],\n",
       " [DiveFrameClusterImageMapping(image_id=78813, dive_frame_cluster_id=670),\n",
       "  DiveFrameClusterImageMapping(image_id=78817, dive_frame_cluster_id=670),\n",
       "  DiveFrameClusterImageMapping(image_id=78818, dive_frame_cluster_id=670),\n",
       "  DiveFrameClusterImageMapping(image_id=78816, dive_frame_cluster_id=670),\n",
       "  DiveFrameClusterImageMapping(image_id=78814, dive_frame_cluster_id=670),\n",
       "  DiveFrameClusterImageMapping(image_id=78815, dive_frame_cluster_id=670)],\n",
       " [DiveFrameClusterImageMapping(image_id=78819, dive_frame_cluster_id=671),\n",
       "  DiveFrameClusterImageMapping(image_id=78820, dive_frame_cluster_id=671)]]"
      ]
     },
     "execution_count": 5,
     "metadata": {},
     "output_type": "execute_result"
    }
   ],
   "source": [
    "async with AsyncSession(database.engine) as session:\n",
    "    cluster_mappings = await asyncio.gather(*(database.select_dive_frame_cluster_image_mappings_by_cluster_id(cluster.id, session=session) for cluster in clusters))\n",
    "\n",
    "cluster_mappings"
   ]
  },
  {
   "cell_type": "code",
   "execution_count": 6,
   "id": "4b59e857",
   "metadata": {},
   "outputs": [
    {
     "data": {
      "text/plain": [
       "[[Image(path='drive-download-20240307T1050Z/112023_Alligator/111323_Alligator/111323_Alligator_FSL05/111323_Alligator DeepEast Drift2_FSL05/PB130168.ORF', taken_datetime=datetime.datetime(2023, 11, 13, 12, 3, 31, tzinfo=datetime.timezone.utc), is_canonical=True, camera_id=5, checksum='7252dfb0db0b855616e45607f58c1c93', id=78666, dive_id=279),\n",
       "  Image(path='drive-download-20240307T1050Z/112023_Alligator/111323_Alligator/111323_Alligator_FSL05/111323_Alligator DeepEast Drift2_FSL05/PB130169.ORF', taken_datetime=datetime.datetime(2023, 11, 13, 12, 3, 31, tzinfo=datetime.timezone.utc), is_canonical=True, camera_id=5, checksum='89832e9de79aac7aacdc7091540ff36a', id=78667, dive_id=279)],\n",
       " [Image(path='drive-download-20240307T1050Z/112023_Alligator/111323_Alligator/111323_Alligator_FSL05/111323_Alligator DeepEast Drift2_FSL05/PB130173.ORF', taken_datetime=datetime.datetime(2023, 11, 13, 12, 3, 32, tzinfo=datetime.timezone.utc), is_canonical=True, camera_id=5, checksum='b7248d8c1b3c845ca3404ccde0a5533b', id=78668, dive_id=279),\n",
       "  Image(path='drive-download-20240307T1050Z/112023_Alligator/111323_Alligator/111323_Alligator_FSL05/111323_Alligator DeepEast Drift2_FSL05/PB130171.ORF', taken_datetime=datetime.datetime(2023, 11, 13, 12, 3, 32, tzinfo=datetime.timezone.utc), is_canonical=True, camera_id=5, checksum='ca75926e4c801a02e22c0e60119ab4c1', id=78669, dive_id=279),\n",
       "  Image(path='drive-download-20240307T1050Z/112023_Alligator/111323_Alligator/111323_Alligator_FSL05/111323_Alligator DeepEast Drift2_FSL05/PB130170.ORF', taken_datetime=datetime.datetime(2023, 11, 13, 12, 3, 32, tzinfo=datetime.timezone.utc), is_canonical=True, camera_id=5, checksum='5c8773107c5410d36dfd29968eacbb69', id=78670, dive_id=279),\n",
       "  Image(path='drive-download-20240307T1050Z/112023_Alligator/111323_Alligator/111323_Alligator_FSL05/111323_Alligator DeepEast Drift2_FSL05/PB130172.ORF', taken_datetime=datetime.datetime(2023, 11, 13, 12, 3, 32, tzinfo=datetime.timezone.utc), is_canonical=True, camera_id=5, checksum='753d88afdc90b4490eb3067191280256', id=78671, dive_id=279)],\n",
       " [Image(path='drive-download-20240307T1050Z/112023_Alligator/111323_Alligator/111323_Alligator_FSL05/111323_Alligator DeepEast Drift2_FSL05/PB130176.ORF', taken_datetime=datetime.datetime(2023, 11, 13, 12, 3, 39, tzinfo=datetime.timezone.utc), is_canonical=True, camera_id=5, checksum='8d6b357534e07c5994c88f32277947e6', id=78672, dive_id=279),\n",
       "  Image(path='drive-download-20240307T1050Z/112023_Alligator/111323_Alligator/111323_Alligator_FSL05/111323_Alligator DeepEast Drift2_FSL05/PB130175.ORF', taken_datetime=datetime.datetime(2023, 11, 13, 12, 3, 39, tzinfo=datetime.timezone.utc), is_canonical=True, camera_id=5, checksum='a47db5f8fce8c80ce7fda348a1bae59b', id=78673, dive_id=279),\n",
       "  Image(path='drive-download-20240307T1050Z/112023_Alligator/111323_Alligator/111323_Alligator_FSL05/111323_Alligator DeepEast Drift2_FSL05/PB130174.ORF', taken_datetime=datetime.datetime(2023, 11, 13, 12, 3, 39, tzinfo=datetime.timezone.utc), is_canonical=True, camera_id=5, checksum='7f70ed78957f6be5798e35054b2e5293', id=78674, dive_id=279)],\n",
       " [Image(path='drive-download-20240307T1050Z/112023_Alligator/111323_Alligator/111323_Alligator_FSL05/111323_Alligator DeepEast Drift2_FSL05/PB130177.ORF', taken_datetime=datetime.datetime(2023, 11, 13, 12, 3, 40, tzinfo=datetime.timezone.utc), is_canonical=True, camera_id=5, checksum='8c62bc307249ea96eff1db99882d57ad', id=78675, dive_id=279),\n",
       "  Image(path='drive-download-20240307T1050Z/112023_Alligator/111323_Alligator/111323_Alligator_FSL05/111323_Alligator DeepEast Drift2_FSL05/PB130178.ORF', taken_datetime=datetime.datetime(2023, 11, 13, 12, 3, 40, tzinfo=datetime.timezone.utc), is_canonical=True, camera_id=5, checksum='c0862232ab87b80ed4da80cb80104092', id=78676, dive_id=279),\n",
       "  Image(path='drive-download-20240307T1050Z/112023_Alligator/111323_Alligator/111323_Alligator_FSL05/111323_Alligator DeepEast Drift2_FSL05/PB130179.ORF', taken_datetime=datetime.datetime(2023, 11, 13, 12, 3, 40, tzinfo=datetime.timezone.utc), is_canonical=True, camera_id=5, checksum='626591a5ec84884ed11779b9c57ee614', id=78677, dive_id=279)],\n",
       " [Image(path='drive-download-20240307T1050Z/112023_Alligator/111323_Alligator/111323_Alligator_FSL05/111323_Alligator DeepEast Drift2_FSL05/PB130180.ORF', taken_datetime=datetime.datetime(2023, 11, 13, 12, 3, 45, tzinfo=datetime.timezone.utc), is_canonical=True, camera_id=5, checksum='5f2a60245b6bbf1d26dd9a59e8931f6e', id=78678, dive_id=279),\n",
       "  Image(path='drive-download-20240307T1050Z/112023_Alligator/111323_Alligator/111323_Alligator_FSL05/111323_Alligator DeepEast Drift2_FSL05/PB130181.ORF', taken_datetime=datetime.datetime(2023, 11, 13, 12, 3, 45, tzinfo=datetime.timezone.utc), is_canonical=True, camera_id=5, checksum='5db4e12ef031a7b0a3877c2d299ddc69', id=78679, dive_id=279),\n",
       "  Image(path='drive-download-20240307T1050Z/112023_Alligator/111323_Alligator/111323_Alligator_FSL05/111323_Alligator DeepEast Drift2_FSL05/PB130182.ORF', taken_datetime=datetime.datetime(2023, 11, 13, 12, 3, 45, tzinfo=datetime.timezone.utc), is_canonical=True, camera_id=5, checksum='55faccd43d30268f9b3a5e875f27109c', id=78680, dive_id=279)],\n",
       " [Image(path='drive-download-20240307T1050Z/112023_Alligator/111323_Alligator/111323_Alligator_FSL05/111323_Alligator DeepEast Drift2_FSL05/PB130186.ORF', taken_datetime=datetime.datetime(2023, 11, 13, 12, 3, 46, tzinfo=datetime.timezone.utc), is_canonical=True, camera_id=5, checksum='cc51f351961bb517fec0214bf305de8d', id=78681, dive_id=279),\n",
       "  Image(path='drive-download-20240307T1050Z/112023_Alligator/111323_Alligator/111323_Alligator_FSL05/111323_Alligator DeepEast Drift2_FSL05/PB130183.ORF', taken_datetime=datetime.datetime(2023, 11, 13, 12, 3, 46, tzinfo=datetime.timezone.utc), is_canonical=True, camera_id=5, checksum='ac90c7315ecdab4ec076f94e5f8cc746', id=78682, dive_id=279),\n",
       "  Image(path='drive-download-20240307T1050Z/112023_Alligator/111323_Alligator/111323_Alligator_FSL05/111323_Alligator DeepEast Drift2_FSL05/PB130184.ORF', taken_datetime=datetime.datetime(2023, 11, 13, 12, 3, 46, tzinfo=datetime.timezone.utc), is_canonical=True, camera_id=5, checksum='b939d7bc765c9b9b7b4f4bc7a8daef5d', id=78683, dive_id=279),\n",
       "  Image(path='drive-download-20240307T1050Z/112023_Alligator/111323_Alligator/111323_Alligator_FSL05/111323_Alligator DeepEast Drift2_FSL05/PB130185.ORF', taken_datetime=datetime.datetime(2023, 11, 13, 12, 3, 46, tzinfo=datetime.timezone.utc), is_canonical=True, camera_id=5, checksum='bf771b23acb7a1a1419e1873112e4b42', id=78684, dive_id=279),\n",
       "  Image(path='drive-download-20240307T1050Z/112023_Alligator/111323_Alligator/111323_Alligator_FSL05/111323_Alligator DeepEast Drift2_FSL05/PB130187.ORF', taken_datetime=datetime.datetime(2023, 11, 13, 12, 3, 46, tzinfo=datetime.timezone.utc), is_canonical=True, camera_id=5, checksum='854e303843c6508c7ba4cf61cee4b2e7', id=78685, dive_id=279)],\n",
       " [Image(path='drive-download-20240307T1050Z/112023_Alligator/111323_Alligator/111323_Alligator_FSL05/111323_Alligator DeepEast Drift2_FSL05/PB130190.ORF', taken_datetime=datetime.datetime(2023, 11, 13, 12, 3, 52, tzinfo=datetime.timezone.utc), is_canonical=True, camera_id=5, checksum='2863b55ffedf2bbb1e94f8042fd8ad60', id=78686, dive_id=279),\n",
       "  Image(path='drive-download-20240307T1050Z/112023_Alligator/111323_Alligator/111323_Alligator_FSL05/111323_Alligator DeepEast Drift2_FSL05/PB130189.ORF', taken_datetime=datetime.datetime(2023, 11, 13, 12, 3, 52, tzinfo=datetime.timezone.utc), is_canonical=True, camera_id=5, checksum='ae65a40aae9d2a8af6cc440775b5f64a', id=78687, dive_id=279),\n",
       "  Image(path='drive-download-20240307T1050Z/112023_Alligator/111323_Alligator/111323_Alligator_FSL05/111323_Alligator DeepEast Drift2_FSL05/PB130188.ORF', taken_datetime=datetime.datetime(2023, 11, 13, 12, 3, 52, tzinfo=datetime.timezone.utc), is_canonical=True, camera_id=5, checksum='a97161b74530f64d7b364108ea098d20', id=78688, dive_id=279)],\n",
       " [Image(path='drive-download-20240307T1050Z/112023_Alligator/111323_Alligator/111323_Alligator_FSL05/111323_Alligator DeepEast Drift2_FSL05/PB130193.ORF', taken_datetime=datetime.datetime(2023, 11, 13, 12, 3, 53, tzinfo=datetime.timezone.utc), is_canonical=True, camera_id=5, checksum='79385f840ef65fca2ad0ae60b378e21d', id=78689, dive_id=279),\n",
       "  Image(path='drive-download-20240307T1050Z/112023_Alligator/111323_Alligator/111323_Alligator_FSL05/111323_Alligator DeepEast Drift2_FSL05/PB130192.ORF', taken_datetime=datetime.datetime(2023, 11, 13, 12, 3, 53, tzinfo=datetime.timezone.utc), is_canonical=True, camera_id=5, checksum='1b42832cd5ea4a8826154e8922bc64c4', id=78690, dive_id=279),\n",
       "  Image(path='drive-download-20240307T1050Z/112023_Alligator/111323_Alligator/111323_Alligator_FSL05/111323_Alligator DeepEast Drift2_FSL05/PB130191.ORF', taken_datetime=datetime.datetime(2023, 11, 13, 12, 3, 53, tzinfo=datetime.timezone.utc), is_canonical=True, camera_id=5, checksum='a5bc99ea04ab657d422b24f2877df215', id=78691, dive_id=279)],\n",
       " [Image(path='drive-download-20240307T1050Z/112023_Alligator/111323_Alligator/111323_Alligator_FSL05/111323_Alligator DeepEast Drift2_FSL05/PB130194.ORF', taken_datetime=datetime.datetime(2023, 11, 13, 12, 4, 1, tzinfo=datetime.timezone.utc), is_canonical=True, camera_id=5, checksum='7fe7a37baaa4cf01a0d34d9df4afc300', id=78692, dive_id=279),\n",
       "  Image(path='drive-download-20240307T1050Z/112023_Alligator/111323_Alligator/111323_Alligator_FSL05/111323_Alligator DeepEast Drift2_FSL05/PB130196.ORF', taken_datetime=datetime.datetime(2023, 11, 13, 12, 4, 1, tzinfo=datetime.timezone.utc), is_canonical=True, camera_id=5, checksum='58abb4732bfc32c2bf7b65caa53df105', id=78693, dive_id=279),\n",
       "  Image(path='drive-download-20240307T1050Z/112023_Alligator/111323_Alligator/111323_Alligator_FSL05/111323_Alligator DeepEast Drift2_FSL05/PB130195.ORF', taken_datetime=datetime.datetime(2023, 11, 13, 12, 4, 1, tzinfo=datetime.timezone.utc), is_canonical=True, camera_id=5, checksum='b91e7423ef6fcafb7f3e1b965de0f888', id=78694, dive_id=279)],\n",
       " [Image(path='drive-download-20240307T1050Z/112023_Alligator/111323_Alligator/111323_Alligator_FSL05/111323_Alligator DeepEast Drift2_FSL05/PB130198.ORF', taken_datetime=datetime.datetime(2023, 11, 13, 12, 4, 2, tzinfo=datetime.timezone.utc), is_canonical=True, camera_id=5, checksum='1f256d5ac8a942e35390bbc3229d6434', id=78695, dive_id=279),\n",
       "  Image(path='drive-download-20240307T1050Z/112023_Alligator/111323_Alligator/111323_Alligator_FSL05/111323_Alligator DeepEast Drift2_FSL05/PB130197.ORF', taken_datetime=datetime.datetime(2023, 11, 13, 12, 4, 2, tzinfo=datetime.timezone.utc), is_canonical=True, camera_id=5, checksum='12e91ffd85fa8da88d231cfa49373f2f', id=78696, dive_id=279),\n",
       "  Image(path='drive-download-20240307T1050Z/112023_Alligator/111323_Alligator/111323_Alligator_FSL05/111323_Alligator DeepEast Drift2_FSL05/PB130199.ORF', taken_datetime=datetime.datetime(2023, 11, 13, 12, 4, 2, tzinfo=datetime.timezone.utc), is_canonical=True, camera_id=5, checksum='db0acd1e139b9559437dcb6cf31aa005', id=78697, dive_id=279),\n",
       "  Image(path='drive-download-20240307T1050Z/112023_Alligator/111323_Alligator/111323_Alligator_FSL05/111323_Alligator DeepEast Drift2_FSL05/PB130200.ORF', taken_datetime=datetime.datetime(2023, 11, 13, 12, 4, 2, tzinfo=datetime.timezone.utc), is_canonical=True, camera_id=5, checksum='6addc208632c30e3cb3b57ee8f379a04', id=78698, dive_id=279)],\n",
       " [Image(path='drive-download-20240307T1050Z/112023_Alligator/111323_Alligator/111323_Alligator_FSL05/111323_Alligator DeepEast Drift2_FSL05/PB130201.ORF', taken_datetime=datetime.datetime(2023, 11, 13, 12, 7, 21, tzinfo=datetime.timezone.utc), is_canonical=True, camera_id=5, checksum='f13e677177327e50f96c82bc29cb9f5f', id=78699, dive_id=279),\n",
       "  Image(path='drive-download-20240307T1050Z/112023_Alligator/111323_Alligator/111323_Alligator_FSL05/111323_Alligator DeepEast Drift2_FSL05/PB130203.ORF', taken_datetime=datetime.datetime(2023, 11, 13, 12, 7, 21, tzinfo=datetime.timezone.utc), is_canonical=True, camera_id=5, checksum='afd7569201f49a5476e6b401890b6ea5', id=78700, dive_id=279),\n",
       "  Image(path='drive-download-20240307T1050Z/112023_Alligator/111323_Alligator/111323_Alligator_FSL05/111323_Alligator DeepEast Drift2_FSL05/PB130202.ORF', taken_datetime=datetime.datetime(2023, 11, 13, 12, 7, 21, tzinfo=datetime.timezone.utc), is_canonical=True, camera_id=5, checksum='106483baa424c4188740a4e1d69a2a21', id=78701, dive_id=279),\n",
       "  Image(path='drive-download-20240307T1050Z/112023_Alligator/111323_Alligator/111323_Alligator_FSL05/111323_Alligator DeepEast Drift2_FSL05/PB130204.ORF', taken_datetime=datetime.datetime(2023, 11, 13, 12, 7, 21, tzinfo=datetime.timezone.utc), is_canonical=True, camera_id=5, checksum='4e59188fadd50029ae7bb6953545a142', id=78702, dive_id=279)],\n",
       " [Image(path='drive-download-20240307T1050Z/112023_Alligator/111323_Alligator/111323_Alligator_FSL05/111323_Alligator DeepEast Drift2_FSL05/PB130206.ORF', taken_datetime=datetime.datetime(2023, 11, 13, 12, 7, 22, tzinfo=datetime.timezone.utc), is_canonical=True, camera_id=5, checksum='9cd5d1a44e220d5eda39231c5612f61c', id=78703, dive_id=279),\n",
       "  Image(path='drive-download-20240307T1050Z/112023_Alligator/111323_Alligator/111323_Alligator_FSL05/111323_Alligator DeepEast Drift2_FSL05/PB130205.ORF', taken_datetime=datetime.datetime(2023, 11, 13, 12, 7, 22, tzinfo=datetime.timezone.utc), is_canonical=True, camera_id=5, checksum='6b8721292bea90158e07314cca28856b', id=78704, dive_id=279),\n",
       "  Image(path='drive-download-20240307T1050Z/112023_Alligator/111323_Alligator/111323_Alligator_FSL05/111323_Alligator DeepEast Drift2_FSL05/PB130207.ORF', taken_datetime=datetime.datetime(2023, 11, 13, 12, 7, 22, tzinfo=datetime.timezone.utc), is_canonical=True, camera_id=5, checksum='b32dd005dde198f239e82efe95093ec1', id=78705, dive_id=279)],\n",
       " [Image(path='drive-download-20240307T1050Z/112023_Alligator/111323_Alligator/111323_Alligator_FSL05/111323_Alligator DeepEast Drift2_FSL05/PB130208.ORF', taken_datetime=datetime.datetime(2023, 11, 13, 12, 7, 24, tzinfo=datetime.timezone.utc), is_canonical=True, camera_id=5, checksum='8029505eac25f10114a061691ec1af0c', id=78706, dive_id=279),\n",
       "  Image(path='drive-download-20240307T1050Z/112023_Alligator/111323_Alligator/111323_Alligator_FSL05/111323_Alligator DeepEast Drift2_FSL05/PB130209.ORF', taken_datetime=datetime.datetime(2023, 11, 13, 12, 7, 25, tzinfo=datetime.timezone.utc), is_canonical=True, camera_id=5, checksum='f768f234bd8e4a4a91b683b85849f5ac', id=78707, dive_id=279),\n",
       "  Image(path='drive-download-20240307T1050Z/112023_Alligator/111323_Alligator/111323_Alligator_FSL05/111323_Alligator DeepEast Drift2_FSL05/PB130210.ORF', taken_datetime=datetime.datetime(2023, 11, 13, 12, 7, 25, tzinfo=datetime.timezone.utc), is_canonical=True, camera_id=5, checksum='ddfecfc5e96c6816a326b975e72eb4b0', id=78708, dive_id=279)],\n",
       " [Image(path='drive-download-20240307T1050Z/112023_Alligator/111323_Alligator/111323_Alligator_FSL05/111323_Alligator DeepEast Drift2_FSL05/PB130213.ORF', taken_datetime=datetime.datetime(2023, 11, 13, 12, 7, 57, tzinfo=datetime.timezone.utc), is_canonical=True, camera_id=5, checksum='b62ca1e44003757dc31189d215a59b57', id=78710, dive_id=279),\n",
       "  Image(path='drive-download-20240307T1050Z/112023_Alligator/111323_Alligator/111323_Alligator_FSL05/111323_Alligator DeepEast Drift2_FSL05/PB130212.ORF', taken_datetime=datetime.datetime(2023, 11, 13, 12, 7, 57, tzinfo=datetime.timezone.utc), is_canonical=True, camera_id=5, checksum='338d37ce850596128635da2b20d2c550', id=78711, dive_id=279)],\n",
       " [Image(path='drive-download-20240307T1050Z/112023_Alligator/111323_Alligator/111323_Alligator_FSL05/111323_Alligator DeepEast Drift2_FSL05/PB130215.ORF', taken_datetime=datetime.datetime(2023, 11, 13, 12, 7, 58, tzinfo=datetime.timezone.utc), is_canonical=True, camera_id=5, checksum='5e90f0717e3c64f36a4f7374c8803438', id=78712, dive_id=279),\n",
       "  Image(path='drive-download-20240307T1050Z/112023_Alligator/111323_Alligator/111323_Alligator_FSL05/111323_Alligator DeepEast Drift2_FSL05/PB130214.ORF', taken_datetime=datetime.datetime(2023, 11, 13, 12, 7, 58, tzinfo=datetime.timezone.utc), is_canonical=True, camera_id=5, checksum='62dfcb509701035395c4bffb71aad1d3', id=78713, dive_id=279)],\n",
       " [Image(path='drive-download-20240307T1050Z/112023_Alligator/111323_Alligator/111323_Alligator_FSL05/111323_Alligator DeepEast Drift2_FSL05/PB130217.ORF', taken_datetime=datetime.datetime(2023, 11, 13, 12, 7, 59, tzinfo=datetime.timezone.utc), is_canonical=True, camera_id=5, checksum='1b75dfcb1892fa3f14d6b7ba9a6050d9', id=78714, dive_id=279),\n",
       "  Image(path='drive-download-20240307T1050Z/112023_Alligator/111323_Alligator/111323_Alligator_FSL05/111323_Alligator DeepEast Drift2_FSL05/PB130216.ORF', taken_datetime=datetime.datetime(2023, 11, 13, 12, 7, 59, tzinfo=datetime.timezone.utc), is_canonical=True, camera_id=5, checksum='225ad5fbb5b766bde3fd7764a6b1c599', id=78715, dive_id=279)],\n",
       " [Image(path='drive-download-20240307T1050Z/112023_Alligator/111323_Alligator/111323_Alligator_FSL05/111323_Alligator DeepEast Drift2_FSL05/PB130218.ORF', taken_datetime=datetime.datetime(2023, 11, 13, 12, 8, 54, tzinfo=datetime.timezone.utc), is_canonical=True, camera_id=5, checksum='ae8ac5798049ad5e05d54eae26d88422', id=78716, dive_id=279),\n",
       "  Image(path='drive-download-20240307T1050Z/112023_Alligator/111323_Alligator/111323_Alligator_FSL05/111323_Alligator DeepEast Drift2_FSL05/PB130219.ORF', taken_datetime=datetime.datetime(2023, 11, 13, 12, 8, 54, tzinfo=datetime.timezone.utc), is_canonical=True, camera_id=5, checksum='b5bb21b810c3831777273924726f8242', id=78717, dive_id=279),\n",
       "  Image(path='drive-download-20240307T1050Z/112023_Alligator/111323_Alligator/111323_Alligator_FSL05/111323_Alligator DeepEast Drift2_FSL05/PB130220.ORF', taken_datetime=datetime.datetime(2023, 11, 13, 12, 8, 54, tzinfo=datetime.timezone.utc), is_canonical=True, camera_id=5, checksum='4cff02c126ae2a007b95d29003444b9e', id=78718, dive_id=279)],\n",
       " [Image(path='drive-download-20240307T1050Z/112023_Alligator/111323_Alligator/111323_Alligator_FSL05/111323_Alligator DeepEast Drift2_FSL05/PB130222.ORF', taken_datetime=datetime.datetime(2023, 11, 13, 12, 8, 55, tzinfo=datetime.timezone.utc), is_canonical=True, camera_id=5, checksum='7f9caf20ff463d5cd0b9f3df31fc3b82', id=78719, dive_id=279),\n",
       "  Image(path='drive-download-20240307T1050Z/112023_Alligator/111323_Alligator/111323_Alligator_FSL05/111323_Alligator DeepEast Drift2_FSL05/PB130221.ORF', taken_datetime=datetime.datetime(2023, 11, 13, 12, 8, 55, tzinfo=datetime.timezone.utc), is_canonical=True, camera_id=5, checksum='8f1bf598cf5531c7fb8f5c288ccc1a0c', id=78720, dive_id=279)],\n",
       " [Image(path='drive-download-20240307T1050Z/112023_Alligator/111323_Alligator/111323_Alligator_FSL05/111323_Alligator DeepEast Drift2_FSL05/PB130223.ORF', taken_datetime=datetime.datetime(2023, 11, 13, 12, 11, 55, tzinfo=datetime.timezone.utc), is_canonical=True, camera_id=5, checksum='01d0873dae6230ded43daf48587268cc', id=78721, dive_id=279),\n",
       "  Image(path='drive-download-20240307T1050Z/112023_Alligator/111323_Alligator/111323_Alligator_FSL05/111323_Alligator DeepEast Drift2_FSL05/PB130225.ORF', taken_datetime=datetime.datetime(2023, 11, 13, 12, 11, 56, tzinfo=datetime.timezone.utc), is_canonical=True, camera_id=5, checksum='8276709bf630787c5a3754fd18493745', id=78722, dive_id=279),\n",
       "  Image(path='drive-download-20240307T1050Z/112023_Alligator/111323_Alligator/111323_Alligator_FSL05/111323_Alligator DeepEast Drift2_FSL05/PB130227.ORF', taken_datetime=datetime.datetime(2023, 11, 13, 12, 11, 56, tzinfo=datetime.timezone.utc), is_canonical=True, camera_id=5, checksum='de3e20be75997099e0ce43412cc24edf', id=78723, dive_id=279),\n",
       "  Image(path='drive-download-20240307T1050Z/112023_Alligator/111323_Alligator/111323_Alligator_FSL05/111323_Alligator DeepEast Drift2_FSL05/PB130224.ORF', taken_datetime=datetime.datetime(2023, 11, 13, 12, 11, 56, tzinfo=datetime.timezone.utc), is_canonical=True, camera_id=5, checksum='e85ecd1d7bfdfde4ad1a20b522a6a113', id=78724, dive_id=279),\n",
       "  Image(path='drive-download-20240307T1050Z/112023_Alligator/111323_Alligator/111323_Alligator_FSL05/111323_Alligator DeepEast Drift2_FSL05/PB130226.ORF', taken_datetime=datetime.datetime(2023, 11, 13, 12, 11, 56, tzinfo=datetime.timezone.utc), is_canonical=True, camera_id=5, checksum='d683574b1b328f0c32f32a0ae195acf1', id=78725, dive_id=279)],\n",
       " [Image(path='drive-download-20240307T1050Z/112023_Alligator/111323_Alligator/111323_Alligator_FSL05/111323_Alligator DeepEast Drift2_FSL05/PB130228.ORF', taken_datetime=datetime.datetime(2023, 11, 13, 12, 12, 59, tzinfo=datetime.timezone.utc), is_canonical=True, camera_id=5, checksum='cbf9a5fb1801704727a8c8ab27469885', id=78726, dive_id=279),\n",
       "  Image(path='drive-download-20240307T1050Z/112023_Alligator/111323_Alligator/111323_Alligator_FSL05/111323_Alligator DeepEast Drift2_FSL05/PB130229.ORF', taken_datetime=datetime.datetime(2023, 11, 13, 12, 12, 59, tzinfo=datetime.timezone.utc), is_canonical=True, camera_id=5, checksum='e973b231b328f679b9bc65f2aa3b3a40', id=78727, dive_id=279)],\n",
       " [Image(path='drive-download-20240307T1050Z/112023_Alligator/111323_Alligator/111323_Alligator_FSL05/111323_Alligator DeepEast Drift2_FSL05/PB130231.ORF', taken_datetime=datetime.datetime(2023, 11, 13, 12, 14, 47, tzinfo=datetime.timezone.utc), is_canonical=True, camera_id=5, checksum='c059514ebc7d4f03cc2d7d72aa6e6ac4', id=78728, dive_id=279),\n",
       "  Image(path='drive-download-20240307T1050Z/112023_Alligator/111323_Alligator/111323_Alligator_FSL05/111323_Alligator DeepEast Drift2_FSL05/PB130230.ORF', taken_datetime=datetime.datetime(2023, 11, 13, 12, 14, 47, tzinfo=datetime.timezone.utc), is_canonical=True, camera_id=5, checksum='14d694d70c291813a64fc9ef40321342', id=78729, dive_id=279)],\n",
       " [Image(path='drive-download-20240307T1050Z/112023_Alligator/111323_Alligator/111323_Alligator_FSL05/111323_Alligator DeepEast Drift2_FSL05/PB130233.ORF', taken_datetime=datetime.datetime(2023, 11, 13, 12, 14, 48, tzinfo=datetime.timezone.utc), is_canonical=True, camera_id=5, checksum='01ab5d203723c7304a477d7d242c8817', id=78730, dive_id=279),\n",
       "  Image(path='drive-download-20240307T1050Z/112023_Alligator/111323_Alligator/111323_Alligator_FSL05/111323_Alligator DeepEast Drift2_FSL05/PB130232.ORF', taken_datetime=datetime.datetime(2023, 11, 13, 12, 14, 48, tzinfo=datetime.timezone.utc), is_canonical=True, camera_id=5, checksum='4d79345eb5dca7a8beec7ae1080d2696', id=78731, dive_id=279)],\n",
       " [Image(path='drive-download-20240307T1050Z/112023_Alligator/111323_Alligator/111323_Alligator_FSL05/111323_Alligator DeepEast Drift2_FSL05/PB130234.ORF', taken_datetime=datetime.datetime(2023, 11, 13, 12, 14, 57, tzinfo=datetime.timezone.utc), is_canonical=True, camera_id=5, checksum='d33e10820d9d8cd82fe898181a243aea', id=78732, dive_id=279),\n",
       "  Image(path='drive-download-20240307T1050Z/112023_Alligator/111323_Alligator/111323_Alligator_FSL05/111323_Alligator DeepEast Drift2_FSL05/PB130235.ORF', taken_datetime=datetime.datetime(2023, 11, 13, 12, 14, 57, tzinfo=datetime.timezone.utc), is_canonical=True, camera_id=5, checksum='b2c1fa8478b16b6d5d8b3095f7eb22e6', id=78733, dive_id=279)],\n",
       " [Image(path='drive-download-20240307T1050Z/112023_Alligator/111323_Alligator/111323_Alligator_FSL05/111323_Alligator DeepEast Drift2_FSL05/PB130236.ORF', taken_datetime=datetime.datetime(2023, 11, 13, 12, 14, 58, tzinfo=datetime.timezone.utc), is_canonical=True, camera_id=5, checksum='2115e4903a919e44fbcc49c00d393937', id=78734, dive_id=279),\n",
       "  Image(path='drive-download-20240307T1050Z/112023_Alligator/111323_Alligator/111323_Alligator_FSL05/111323_Alligator DeepEast Drift2_FSL05/PB130237.ORF', taken_datetime=datetime.datetime(2023, 11, 13, 12, 14, 58, tzinfo=datetime.timezone.utc), is_canonical=True, camera_id=5, checksum='86928679aa11e2773cb3dafa2722dc74', id=78735, dive_id=279),\n",
       "  Image(path='drive-download-20240307T1050Z/112023_Alligator/111323_Alligator/111323_Alligator_FSL05/111323_Alligator DeepEast Drift2_FSL05/PB130238.ORF', taken_datetime=datetime.datetime(2023, 11, 13, 12, 14, 58, tzinfo=datetime.timezone.utc), is_canonical=True, camera_id=5, checksum='40f65393eaed1df734a72d14be606dcc', id=78736, dive_id=279)],\n",
       " [Image(path='drive-download-20240307T1050Z/112023_Alligator/111323_Alligator/111323_Alligator_FSL05/111323_Alligator DeepEast Drift2_FSL05/PB130239.ORF', taken_datetime=datetime.datetime(2023, 11, 13, 12, 15, 7, tzinfo=datetime.timezone.utc), is_canonical=True, camera_id=5, checksum='d519bf966a112cc2ec9460452063a54b', id=78737, dive_id=279),\n",
       "  Image(path='drive-download-20240307T1050Z/112023_Alligator/111323_Alligator/111323_Alligator_FSL05/111323_Alligator DeepEast Drift2_FSL05/PB130240.ORF', taken_datetime=datetime.datetime(2023, 11, 13, 12, 15, 7, tzinfo=datetime.timezone.utc), is_canonical=True, camera_id=5, checksum='1e38ad9c4ba7704a4a3ede1d23c2b42f', id=78738, dive_id=279),\n",
       "  Image(path='drive-download-20240307T1050Z/112023_Alligator/111323_Alligator/111323_Alligator_FSL05/111323_Alligator DeepEast Drift2_FSL05/PB130241.ORF', taken_datetime=datetime.datetime(2023, 11, 13, 12, 15, 7, tzinfo=datetime.timezone.utc), is_canonical=True, camera_id=5, checksum='57805e077ae07c7ef72852d0de236417', id=78739, dive_id=279)],\n",
       " [Image(path='drive-download-20240307T1050Z/112023_Alligator/111323_Alligator/111323_Alligator_FSL05/111323_Alligator DeepEast Drift2_FSL05/PB130242.ORF', taken_datetime=datetime.datetime(2023, 11, 13, 12, 17, 45, tzinfo=datetime.timezone.utc), is_canonical=True, camera_id=5, checksum='7c22420a6f39e5ca69f2127e8c385df4', id=78740, dive_id=279),\n",
       "  Image(path='drive-download-20240307T1050Z/112023_Alligator/111323_Alligator/111323_Alligator_FSL05/111323_Alligator DeepEast Drift2_FSL05/PB130243.ORF', taken_datetime=datetime.datetime(2023, 11, 13, 12, 17, 47, tzinfo=datetime.timezone.utc), is_canonical=True, camera_id=5, checksum='8bfbce8eb3d96cd9f612cf200528d275', id=78741, dive_id=279)],\n",
       " [Image(path='drive-download-20240307T1050Z/112023_Alligator/111323_Alligator/111323_Alligator_FSL05/111323_Alligator DeepEast Drift2_FSL05/PB130245.ORF', taken_datetime=datetime.datetime(2023, 11, 13, 12, 17, 50, tzinfo=datetime.timezone.utc), is_canonical=True, camera_id=5, checksum='16fa583ca1582383a6664a9b8984ec88', id=78742, dive_id=279),\n",
       "  Image(path='drive-download-20240307T1050Z/112023_Alligator/111323_Alligator/111323_Alligator_FSL05/111323_Alligator DeepEast Drift2_FSL05/PB130244.ORF', taken_datetime=datetime.datetime(2023, 11, 13, 12, 17, 50, tzinfo=datetime.timezone.utc), is_canonical=True, camera_id=5, checksum='e44650bcfbc62e465ceaa05422317ea7', id=78743, dive_id=279)],\n",
       " [Image(path='drive-download-20240307T1050Z/112023_Alligator/111323_Alligator/111323_Alligator_FSL05/111323_Alligator DeepEast Drift2_FSL05/PB130247.ORF', taken_datetime=datetime.datetime(2023, 11, 13, 12, 17, 51, tzinfo=datetime.timezone.utc), is_canonical=True, camera_id=5, checksum='7d3c6fecde261628cdbf3933e367d2e7', id=78744, dive_id=279),\n",
       "  Image(path='drive-download-20240307T1050Z/112023_Alligator/111323_Alligator/111323_Alligator_FSL05/111323_Alligator DeepEast Drift2_FSL05/PB130246.ORF', taken_datetime=datetime.datetime(2023, 11, 13, 12, 17, 51, tzinfo=datetime.timezone.utc), is_canonical=True, camera_id=5, checksum='819b38ec4a7b5918ed74ca938dcf38dc', id=78745, dive_id=279),\n",
       "  Image(path='drive-download-20240307T1050Z/112023_Alligator/111323_Alligator/111323_Alligator_FSL05/111323_Alligator DeepEast Drift2_FSL05/PB130248.ORF', taken_datetime=datetime.datetime(2023, 11, 13, 12, 17, 51, tzinfo=datetime.timezone.utc), is_canonical=True, camera_id=5, checksum='0c394c8f6e6b68eb4d9dbfea623d2ab8', id=78746, dive_id=279)],\n",
       " [Image(path='drive-download-20240307T1050Z/112023_Alligator/111323_Alligator/111323_Alligator_FSL05/111323_Alligator DeepEast Drift2_FSL05/PB130250.ORF', taken_datetime=datetime.datetime(2023, 11, 13, 12, 17, 58, tzinfo=datetime.timezone.utc), is_canonical=True, camera_id=5, checksum='9849e09fc744530156e3fae2a23507ae', id=78747, dive_id=279),\n",
       "  Image(path='drive-download-20240307T1050Z/112023_Alligator/111323_Alligator/111323_Alligator_FSL05/111323_Alligator DeepEast Drift2_FSL05/PB130249.ORF', taken_datetime=datetime.datetime(2023, 11, 13, 12, 17, 58, tzinfo=datetime.timezone.utc), is_canonical=True, camera_id=5, checksum='c5cfc55d411e0f35faf92e78f01fd25c', id=78748, dive_id=279)],\n",
       " [Image(path='drive-download-20240307T1050Z/112023_Alligator/111323_Alligator/111323_Alligator_FSL05/111323_Alligator DeepEast Drift2_FSL05/PB130252.ORF', taken_datetime=datetime.datetime(2023, 11, 13, 12, 18, 42, tzinfo=datetime.timezone.utc), is_canonical=True, camera_id=5, checksum='de6b9ff79bd8c719ed6a03be0d7bdef0', id=78749, dive_id=279),\n",
       "  Image(path='drive-download-20240307T1050Z/112023_Alligator/111323_Alligator/111323_Alligator_FSL05/111323_Alligator DeepEast Drift2_FSL05/PB130251.ORF', taken_datetime=datetime.datetime(2023, 11, 13, 12, 18, 42, tzinfo=datetime.timezone.utc), is_canonical=True, camera_id=5, checksum='5faa732c87ada94f338dd19df4fb30a9', id=78750, dive_id=279)],\n",
       " [Image(path='drive-download-20240307T1050Z/112023_Alligator/111323_Alligator/111323_Alligator_FSL05/111323_Alligator DeepEast Drift2_FSL05/PB130253.ORF', taken_datetime=datetime.datetime(2023, 11, 13, 12, 18, 43, tzinfo=datetime.timezone.utc), is_canonical=True, camera_id=5, checksum='f487d482251cd34ff5628415d2005b3c', id=78751, dive_id=279),\n",
       "  Image(path='drive-download-20240307T1050Z/112023_Alligator/111323_Alligator/111323_Alligator_FSL05/111323_Alligator DeepEast Drift2_FSL05/PB130254.ORF', taken_datetime=datetime.datetime(2023, 11, 13, 12, 18, 43, tzinfo=datetime.timezone.utc), is_canonical=True, camera_id=5, checksum='53925a4f0ad09cfb815dd621198bc2b3', id=78752, dive_id=279)],\n",
       " [Image(path='drive-download-20240307T1050Z/112023_Alligator/111323_Alligator/111323_Alligator_FSL05/111323_Alligator DeepEast Drift2_FSL05/PB130255.ORF', taken_datetime=datetime.datetime(2023, 11, 13, 12, 18, 56, tzinfo=datetime.timezone.utc), is_canonical=True, camera_id=5, checksum='712074e0edcf294c9637d145bc313f57', id=78753, dive_id=279),\n",
       "  Image(path='drive-download-20240307T1050Z/112023_Alligator/111323_Alligator/111323_Alligator_FSL05/111323_Alligator DeepEast Drift2_FSL05/PB130258.ORF', taken_datetime=datetime.datetime(2023, 11, 13, 12, 18, 56, tzinfo=datetime.timezone.utc), is_canonical=True, camera_id=5, checksum='056aca520de6acf75ce398c2b82b482a', id=78754, dive_id=279),\n",
       "  Image(path='drive-download-20240307T1050Z/112023_Alligator/111323_Alligator/111323_Alligator_FSL05/111323_Alligator DeepEast Drift2_FSL05/PB130259.ORF', taken_datetime=datetime.datetime(2023, 11, 13, 12, 18, 56, tzinfo=datetime.timezone.utc), is_canonical=True, camera_id=5, checksum='cab0e1f4962d91d6cced730324b69b82', id=78755, dive_id=279),\n",
       "  Image(path='drive-download-20240307T1050Z/112023_Alligator/111323_Alligator/111323_Alligator_FSL05/111323_Alligator DeepEast Drift2_FSL05/PB130256.ORF', taken_datetime=datetime.datetime(2023, 11, 13, 12, 18, 56, tzinfo=datetime.timezone.utc), is_canonical=True, camera_id=5, checksum='938107719c745ac5676461d7def4be4e', id=78756, dive_id=279),\n",
       "  Image(path='drive-download-20240307T1050Z/112023_Alligator/111323_Alligator/111323_Alligator_FSL05/111323_Alligator DeepEast Drift2_FSL05/PB130257.ORF', taken_datetime=datetime.datetime(2023, 11, 13, 12, 18, 56, tzinfo=datetime.timezone.utc), is_canonical=True, camera_id=5, checksum='db19afdc8b13a1730136ed756416d68f', id=78757, dive_id=279)],\n",
       " [Image(path='drive-download-20240307T1050Z/112023_Alligator/111323_Alligator/111323_Alligator_FSL05/111323_Alligator DeepEast Drift2_FSL05/PB130261.ORF', taken_datetime=datetime.datetime(2023, 11, 13, 12, 19, 20, tzinfo=datetime.timezone.utc), is_canonical=True, camera_id=5, checksum='6313adc4cbec0e2a6725225beac87325', id=78758, dive_id=279),\n",
       "  Image(path='drive-download-20240307T1050Z/112023_Alligator/111323_Alligator/111323_Alligator_FSL05/111323_Alligator DeepEast Drift2_FSL05/PB130260.ORF', taken_datetime=datetime.datetime(2023, 11, 13, 12, 19, 20, tzinfo=datetime.timezone.utc), is_canonical=True, camera_id=5, checksum='f9f0d69812b9391ad865108cee178498', id=78759, dive_id=279),\n",
       "  Image(path='drive-download-20240307T1050Z/112023_Alligator/111323_Alligator/111323_Alligator_FSL05/111323_Alligator DeepEast Drift2_FSL05/PB130262.ORF', taken_datetime=datetime.datetime(2023, 11, 13, 12, 19, 20, tzinfo=datetime.timezone.utc), is_canonical=True, camera_id=5, checksum='7a138dbe9167d876c5f4cb7fdf5f7e7b', id=78760, dive_id=279)],\n",
       " [Image(path='drive-download-20240307T1050Z/112023_Alligator/111323_Alligator/111323_Alligator_FSL05/111323_Alligator DeepEast Drift2_FSL05/PB130263.ORF', taken_datetime=datetime.datetime(2023, 11, 13, 12, 19, 25, tzinfo=datetime.timezone.utc), is_canonical=True, camera_id=5, checksum='f77bb953277bf880eb4635e197d0614b', id=78761, dive_id=279),\n",
       "  Image(path='drive-download-20240307T1050Z/112023_Alligator/111323_Alligator/111323_Alligator_FSL05/111323_Alligator DeepEast Drift2_FSL05/PB130265.ORF', taken_datetime=datetime.datetime(2023, 11, 13, 12, 19, 25, tzinfo=datetime.timezone.utc), is_canonical=True, camera_id=5, checksum='eca97e094c1ded77594150e7f71e36e9', id=78762, dive_id=279),\n",
       "  Image(path='drive-download-20240307T1050Z/112023_Alligator/111323_Alligator/111323_Alligator_FSL05/111323_Alligator DeepEast Drift2_FSL05/PB130264.ORF', taken_datetime=datetime.datetime(2023, 11, 13, 12, 19, 25, tzinfo=datetime.timezone.utc), is_canonical=True, camera_id=5, checksum='bf03764cd48a70f7b5ddc03831589a54', id=78763, dive_id=279),\n",
       "  Image(path='drive-download-20240307T1050Z/112023_Alligator/111323_Alligator/111323_Alligator_FSL05/111323_Alligator DeepEast Drift2_FSL05/PB130266.ORF', taken_datetime=datetime.datetime(2023, 11, 13, 12, 19, 25, tzinfo=datetime.timezone.utc), is_canonical=True, camera_id=5, checksum='06ac4302135b77106028f38c23d10cf0', id=78764, dive_id=279)],\n",
       " [Image(path='drive-download-20240307T1050Z/112023_Alligator/111323_Alligator/111323_Alligator_FSL05/111323_Alligator DeepEast Drift2_FSL05/PB130270.ORF', taken_datetime=datetime.datetime(2023, 11, 13, 12, 24, 15, tzinfo=datetime.timezone.utc), is_canonical=True, camera_id=5, checksum='965e90b85f5cd8bc0860bb02176fe01c', id=78765, dive_id=279),\n",
       "  Image(path='drive-download-20240307T1050Z/112023_Alligator/111323_Alligator/111323_Alligator_FSL05/111323_Alligator DeepEast Drift2_FSL05/PB130267.ORF', taken_datetime=datetime.datetime(2023, 11, 13, 12, 24, 15, tzinfo=datetime.timezone.utc), is_canonical=True, camera_id=5, checksum='d24b71a96ba916ebf54dc60220336b25', id=78766, dive_id=279),\n",
       "  Image(path='drive-download-20240307T1050Z/112023_Alligator/111323_Alligator/111323_Alligator_FSL05/111323_Alligator DeepEast Drift2_FSL05/PB130269.ORF', taken_datetime=datetime.datetime(2023, 11, 13, 12, 24, 15, tzinfo=datetime.timezone.utc), is_canonical=True, camera_id=5, checksum='613bd0c40cfeed67e0449fb2c719b02d', id=78767, dive_id=279),\n",
       "  Image(path='drive-download-20240307T1050Z/112023_Alligator/111323_Alligator/111323_Alligator_FSL05/111323_Alligator DeepEast Drift2_FSL05/PB130268.ORF', taken_datetime=datetime.datetime(2023, 11, 13, 12, 24, 15, tzinfo=datetime.timezone.utc), is_canonical=True, camera_id=5, checksum='e19a6336e2c06e14671ee90c3a466fb6', id=78768, dive_id=279)],\n",
       " [Image(path='drive-download-20240307T1050Z/112023_Alligator/111323_Alligator/111323_Alligator_FSL05/111323_Alligator DeepEast Drift2_FSL05/PB130271.ORF', taken_datetime=datetime.datetime(2023, 11, 13, 12, 24, 16, tzinfo=datetime.timezone.utc), is_canonical=True, camera_id=5, checksum='f90b41d98cea1c752427b6320ad62694', id=78769, dive_id=279),\n",
       "  Image(path='drive-download-20240307T1050Z/112023_Alligator/111323_Alligator/111323_Alligator_FSL05/111323_Alligator DeepEast Drift2_FSL05/PB130272.ORF', taken_datetime=datetime.datetime(2023, 11, 13, 12, 24, 16, tzinfo=datetime.timezone.utc), is_canonical=True, camera_id=5, checksum='1eced71a32daf6c1116b287f9fcd125a', id=78770, dive_id=279)],\n",
       " [Image(path='drive-download-20240307T1050Z/112023_Alligator/111323_Alligator/111323_Alligator_FSL05/111323_Alligator DeepEast Drift2_FSL05/PB130275.ORF', taken_datetime=datetime.datetime(2023, 11, 13, 12, 24, 17, tzinfo=datetime.timezone.utc), is_canonical=True, camera_id=5, checksum='f3681d941fcb0c9e95314f5e7c9799eb', id=78771, dive_id=279),\n",
       "  Image(path='drive-download-20240307T1050Z/112023_Alligator/111323_Alligator/111323_Alligator_FSL05/111323_Alligator DeepEast Drift2_FSL05/PB130273.ORF', taken_datetime=datetime.datetime(2023, 11, 13, 12, 24, 17, tzinfo=datetime.timezone.utc), is_canonical=True, camera_id=5, checksum='62603b2d231ab2fcff29623d73e8d7b2', id=78772, dive_id=279),\n",
       "  Image(path='drive-download-20240307T1050Z/112023_Alligator/111323_Alligator/111323_Alligator_FSL05/111323_Alligator DeepEast Drift2_FSL05/PB130274.ORF', taken_datetime=datetime.datetime(2023, 11, 13, 12, 24, 17, tzinfo=datetime.timezone.utc), is_canonical=True, camera_id=5, checksum='4bb81a66c8689e0a994f1d3804cda8fd', id=78773, dive_id=279)],\n",
       " [Image(path='drive-download-20240307T1050Z/112023_Alligator/111323_Alligator/111323_Alligator_FSL05/111323_Alligator DeepEast Drift2_FSL05/PB130277.ORF', taken_datetime=datetime.datetime(2023, 11, 13, 12, 27, 56, tzinfo=datetime.timezone.utc), is_canonical=True, camera_id=5, checksum='9b9538db827086f2e7842ab8fd542e6a', id=78774, dive_id=279),\n",
       "  Image(path='drive-download-20240307T1050Z/112023_Alligator/111323_Alligator/111323_Alligator_FSL05/111323_Alligator DeepEast Drift2_FSL05/PB130276.ORF', taken_datetime=datetime.datetime(2023, 11, 13, 12, 27, 56, tzinfo=datetime.timezone.utc), is_canonical=True, camera_id=5, checksum='304b30984ebb665f98ceb55818b15cd6', id=78775, dive_id=279)],\n",
       " [Image(path='drive-download-20240307T1050Z/112023_Alligator/111323_Alligator/111323_Alligator_FSL05/111323_Alligator DeepEast Drift2_FSL05/PB130280.ORF', taken_datetime=datetime.datetime(2023, 11, 13, 12, 28, 11, tzinfo=datetime.timezone.utc), is_canonical=True, camera_id=5, checksum='dfc948bee74e78f55d067f4779c19a5e', id=78776, dive_id=279),\n",
       "  Image(path='drive-download-20240307T1050Z/112023_Alligator/111323_Alligator/111323_Alligator_FSL05/111323_Alligator DeepEast Drift2_FSL05/PB130279.ORF', taken_datetime=datetime.datetime(2023, 11, 13, 12, 28, 11, tzinfo=datetime.timezone.utc), is_canonical=True, camera_id=5, checksum='654ae9b13a5ef994707584e71ee8d6fb', id=78777, dive_id=279),\n",
       "  Image(path='drive-download-20240307T1050Z/112023_Alligator/111323_Alligator/111323_Alligator_FSL05/111323_Alligator DeepEast Drift2_FSL05/PB130278.ORF', taken_datetime=datetime.datetime(2023, 11, 13, 12, 28, 11, tzinfo=datetime.timezone.utc), is_canonical=True, camera_id=5, checksum='5afaa4f6b2dfa58cb53f92c19a21fd33', id=78778, dive_id=279)],\n",
       " [Image(path='drive-download-20240307T1050Z/112023_Alligator/111323_Alligator/111323_Alligator_FSL05/111323_Alligator DeepEast Drift2_FSL05/PB130283.ORF', taken_datetime=datetime.datetime(2023, 11, 13, 12, 28, 12, tzinfo=datetime.timezone.utc), is_canonical=True, camera_id=5, checksum='a900ae07cc0986fa0c5aa294b30e8110', id=78779, dive_id=279),\n",
       "  Image(path='drive-download-20240307T1050Z/112023_Alligator/111323_Alligator/111323_Alligator_FSL05/111323_Alligator DeepEast Drift2_FSL05/PB130282.ORF', taken_datetime=datetime.datetime(2023, 11, 13, 12, 28, 12, tzinfo=datetime.timezone.utc), is_canonical=True, camera_id=5, checksum='84ba1ce05f8c6a8d619c0f2b7676af19', id=78780, dive_id=279),\n",
       "  Image(path='drive-download-20240307T1050Z/112023_Alligator/111323_Alligator/111323_Alligator_FSL05/111323_Alligator DeepEast Drift2_FSL05/PB130281.ORF', taken_datetime=datetime.datetime(2023, 11, 13, 12, 28, 12, tzinfo=datetime.timezone.utc), is_canonical=True, camera_id=5, checksum='c90d2d83ae3c5312e29128c45e472030', id=78781, dive_id=279),\n",
       "  Image(path='drive-download-20240307T1050Z/112023_Alligator/111323_Alligator/111323_Alligator_FSL05/111323_Alligator DeepEast Drift2_FSL05/PB130285.ORF', taken_datetime=datetime.datetime(2023, 11, 13, 12, 28, 12, tzinfo=datetime.timezone.utc), is_canonical=True, camera_id=5, checksum='1578e2ba2f09c8892cd922424907b0f6', id=78782, dive_id=279),\n",
       "  Image(path='drive-download-20240307T1050Z/112023_Alligator/111323_Alligator/111323_Alligator_FSL05/111323_Alligator DeepEast Drift2_FSL05/PB130284.ORF', taken_datetime=datetime.datetime(2023, 11, 13, 12, 28, 12, tzinfo=datetime.timezone.utc), is_canonical=True, camera_id=5, checksum='c516b742d033dbe9b6a91226a92269f2', id=78783, dive_id=279)],\n",
       " [Image(path='drive-download-20240307T1050Z/112023_Alligator/111323_Alligator/111323_Alligator_FSL05/111323_Alligator DeepEast Drift2_FSL05/PB130288.ORF', taken_datetime=datetime.datetime(2023, 11, 13, 12, 28, 27, tzinfo=datetime.timezone.utc), is_canonical=True, camera_id=5, checksum='163a2500050701b58f28a5390af37afd', id=78784, dive_id=279),\n",
       "  Image(path='drive-download-20240307T1050Z/112023_Alligator/111323_Alligator/111323_Alligator_FSL05/111323_Alligator DeepEast Drift2_FSL05/PB130287.ORF', taken_datetime=datetime.datetime(2023, 11, 13, 12, 28, 27, tzinfo=datetime.timezone.utc), is_canonical=True, camera_id=5, checksum='581820813ece269a455d07f81eaedef0', id=78785, dive_id=279),\n",
       "  Image(path='drive-download-20240307T1050Z/112023_Alligator/111323_Alligator/111323_Alligator_FSL05/111323_Alligator DeepEast Drift2_FSL05/PB130286.ORF', taken_datetime=datetime.datetime(2023, 11, 13, 12, 28, 27, tzinfo=datetime.timezone.utc), is_canonical=True, camera_id=5, checksum='da8e3dee4633140d43aa246f20caecc4', id=78786, dive_id=279)],\n",
       " [Image(path='drive-download-20240307T1050Z/112023_Alligator/111323_Alligator/111323_Alligator_FSL05/111323_Alligator DeepEast Drift2_FSL05/PB130289.ORF', taken_datetime=datetime.datetime(2023, 11, 13, 12, 28, 28, tzinfo=datetime.timezone.utc), is_canonical=True, camera_id=5, checksum='4feb794a4c86f2eb5531a509b107e142', id=78787, dive_id=279),\n",
       "  Image(path='drive-download-20240307T1050Z/112023_Alligator/111323_Alligator/111323_Alligator_FSL05/111323_Alligator DeepEast Drift2_FSL05/PB130290.ORF', taken_datetime=datetime.datetime(2023, 11, 13, 12, 28, 28, tzinfo=datetime.timezone.utc), is_canonical=True, camera_id=5, checksum='c97d6d41a7385d098a93045902442a85', id=78788, dive_id=279)],\n",
       " [Image(path='drive-download-20240307T1050Z/112023_Alligator/111323_Alligator/111323_Alligator_FSL05/111323_Alligator DeepEast Drift2_FSL05/PB130293.ORF', taken_datetime=datetime.datetime(2023, 11, 13, 12, 32, 24, tzinfo=datetime.timezone.utc), is_canonical=True, camera_id=5, checksum='7b0ad9e6a93747cabb9fb7e9906c1b86', id=78790, dive_id=279),\n",
       "  Image(path='drive-download-20240307T1050Z/112023_Alligator/111323_Alligator/111323_Alligator_FSL05/111323_Alligator DeepEast Drift2_FSL05/PB130294.ORF', taken_datetime=datetime.datetime(2023, 11, 13, 12, 32, 24, tzinfo=datetime.timezone.utc), is_canonical=True, camera_id=5, checksum='ff5fa79d6d2742fcaffe8ddbd2acdd2c', id=78791, dive_id=279),\n",
       "  Image(path='drive-download-20240307T1050Z/112023_Alligator/111323_Alligator/111323_Alligator_FSL05/111323_Alligator DeepEast Drift2_FSL05/PB130292.ORF', taken_datetime=datetime.datetime(2023, 11, 13, 12, 32, 24, tzinfo=datetime.timezone.utc), is_canonical=True, camera_id=5, checksum='fb196d2551d29f2949954f441d8f63fb', id=78792, dive_id=279)],\n",
       " [Image(path='drive-download-20240307T1050Z/112023_Alligator/111323_Alligator/111323_Alligator_FSL05/111323_Alligator DeepEast Drift2_FSL05/PB130295.ORF', taken_datetime=datetime.datetime(2023, 11, 13, 12, 32, 25, tzinfo=datetime.timezone.utc), is_canonical=True, camera_id=5, checksum='ce5cb602cff3444ad1925fc270a8e17b', id=78793, dive_id=279),\n",
       "  Image(path='drive-download-20240307T1050Z/112023_Alligator/111323_Alligator/111323_Alligator_FSL05/111323_Alligator DeepEast Drift2_FSL05/PB130297.ORF', taken_datetime=datetime.datetime(2023, 11, 13, 12, 32, 25, tzinfo=datetime.timezone.utc), is_canonical=True, camera_id=5, checksum='33a9614131aa214509fa1fe54705baf6', id=78794, dive_id=279),\n",
       "  Image(path='drive-download-20240307T1050Z/112023_Alligator/111323_Alligator/111323_Alligator_FSL05/111323_Alligator DeepEast Drift2_FSL05/PB130296.ORF', taken_datetime=datetime.datetime(2023, 11, 13, 12, 32, 25, tzinfo=datetime.timezone.utc), is_canonical=True, camera_id=5, checksum='86681c1ac11bbe9f6b8e6e22ec21cb82', id=78795, dive_id=279),\n",
       "  Image(path='drive-download-20240307T1050Z/112023_Alligator/111323_Alligator/111323_Alligator_FSL05/111323_Alligator DeepEast Drift2_FSL05/PB130298.ORF', taken_datetime=datetime.datetime(2023, 11, 13, 12, 32, 25, tzinfo=datetime.timezone.utc), is_canonical=True, camera_id=5, checksum='7c8d27c4be21172d187293ff85a7067f', id=78796, dive_id=279)],\n",
       " [Image(path='drive-download-20240307T1050Z/112023_Alligator/111323_Alligator/111323_Alligator_FSL05/111323_Alligator DeepEast Drift2_FSL05/PB130300.ORF', taken_datetime=datetime.datetime(2023, 11, 13, 12, 33, 55, tzinfo=datetime.timezone.utc), is_canonical=True, camera_id=5, checksum='ff7e76aff9bdd3147a3ffd1942df9f27', id=78797, dive_id=279),\n",
       "  Image(path='drive-download-20240307T1050Z/112023_Alligator/111323_Alligator/111323_Alligator_FSL05/111323_Alligator DeepEast Drift2_FSL05/PB130299.ORF', taken_datetime=datetime.datetime(2023, 11, 13, 12, 33, 55, tzinfo=datetime.timezone.utc), is_canonical=True, camera_id=5, checksum='9008aea58024e6d14d7e6516b7897e5e', id=78798, dive_id=279),\n",
       "  Image(path='drive-download-20240307T1050Z/112023_Alligator/111323_Alligator/111323_Alligator_FSL05/111323_Alligator DeepEast Drift2_FSL05/PB130301.ORF', taken_datetime=datetime.datetime(2023, 11, 13, 12, 33, 55, tzinfo=datetime.timezone.utc), is_canonical=True, camera_id=5, checksum='0ac298a149270072bd3ef1fb3fa1065a', id=78799, dive_id=279)],\n",
       " [Image(path='drive-download-20240307T1050Z/112023_Alligator/111323_Alligator/111323_Alligator_FSL05/111323_Alligator DeepEast Drift2_FSL05/PB130302.ORF', taken_datetime=datetime.datetime(2023, 11, 13, 12, 33, 56, tzinfo=datetime.timezone.utc), is_canonical=True, camera_id=5, checksum='6f783405c07e4d046330415c63aeb81c', id=78800, dive_id=279),\n",
       "  Image(path='drive-download-20240307T1050Z/112023_Alligator/111323_Alligator/111323_Alligator_FSL05/111323_Alligator DeepEast Drift2_FSL05/PB130305.ORF', taken_datetime=datetime.datetime(2023, 11, 13, 12, 33, 56, tzinfo=datetime.timezone.utc), is_canonical=True, camera_id=5, checksum='0847038433685964868686b6ca48933f', id=78801, dive_id=279),\n",
       "  Image(path='drive-download-20240307T1050Z/112023_Alligator/111323_Alligator/111323_Alligator_FSL05/111323_Alligator DeepEast Drift2_FSL05/PB130304.ORF', taken_datetime=datetime.datetime(2023, 11, 13, 12, 33, 56, tzinfo=datetime.timezone.utc), is_canonical=True, camera_id=5, checksum='40438a8553773f83d3457803c92422f5', id=78802, dive_id=279),\n",
       "  Image(path='drive-download-20240307T1050Z/112023_Alligator/111323_Alligator/111323_Alligator_FSL05/111323_Alligator DeepEast Drift2_FSL05/PB130303.ORF', taken_datetime=datetime.datetime(2023, 11, 13, 12, 33, 56, tzinfo=datetime.timezone.utc), is_canonical=True, camera_id=5, checksum='5c3150db97d95716e4dfa751262e2e60', id=78803, dive_id=279)],\n",
       " [Image(path='drive-download-20240307T1050Z/112023_Alligator/111323_Alligator/111323_Alligator_FSL05/111323_Alligator DeepEast Drift2_FSL05/PB130306.ORF', taken_datetime=datetime.datetime(2023, 11, 13, 12, 34, tzinfo=datetime.timezone.utc), is_canonical=True, camera_id=5, checksum='94c459a0e82f65ee54e9ea4ee891af6a', id=78804, dive_id=279),\n",
       "  Image(path='drive-download-20240307T1050Z/112023_Alligator/111323_Alligator/111323_Alligator_FSL05/111323_Alligator DeepEast Drift2_FSL05/PB130307.ORF', taken_datetime=datetime.datetime(2023, 11, 13, 12, 34, tzinfo=datetime.timezone.utc), is_canonical=True, camera_id=5, checksum='2821c36b5e372ed0a5f3c6a4f488d361', id=78805, dive_id=279)],\n",
       " [Image(path='drive-download-20240307T1050Z/112023_Alligator/111323_Alligator/111323_Alligator_FSL05/111323_Alligator DeepEast Drift2_FSL05/PB130309.ORF', taken_datetime=datetime.datetime(2023, 11, 13, 12, 34, 1, tzinfo=datetime.timezone.utc), is_canonical=True, camera_id=5, checksum='d716c520a5fcb52fa1d0f1b2cb8cb53c', id=78806, dive_id=279),\n",
       "  Image(path='drive-download-20240307T1050Z/112023_Alligator/111323_Alligator/111323_Alligator_FSL05/111323_Alligator DeepEast Drift2_FSL05/PB130308.ORF', taken_datetime=datetime.datetime(2023, 11, 13, 12, 34, 1, tzinfo=datetime.timezone.utc), is_canonical=True, camera_id=5, checksum='917db3f3dcf07f1812dfb0b60c8c66e5', id=78807, dive_id=279)],\n",
       " [Image(path='drive-download-20240307T1050Z/112023_Alligator/111323_Alligator/111323_Alligator_FSL05/111323_Alligator DeepEast Drift2_FSL05/PB130310.ORF', taken_datetime=datetime.datetime(2023, 11, 13, 12, 34, 3, tzinfo=datetime.timezone.utc), is_canonical=True, camera_id=5, checksum='87526d5b900fbd21c2ac7a364b50bee2', id=78808, dive_id=279),\n",
       "  Image(path='drive-download-20240307T1050Z/112023_Alligator/111323_Alligator/111323_Alligator_FSL05/111323_Alligator DeepEast Drift2_FSL05/PB130313.ORF', taken_datetime=datetime.datetime(2023, 11, 13, 12, 34, 4, tzinfo=datetime.timezone.utc), is_canonical=True, camera_id=5, checksum='14181bfd8c5d28054a66d138178c04c6', id=78809, dive_id=279),\n",
       "  Image(path='drive-download-20240307T1050Z/112023_Alligator/111323_Alligator/111323_Alligator_FSL05/111323_Alligator DeepEast Drift2_FSL05/PB130312.ORF', taken_datetime=datetime.datetime(2023, 11, 13, 12, 34, 4, tzinfo=datetime.timezone.utc), is_canonical=True, camera_id=5, checksum='203a631812c80b72a4321fddb2a344bb', id=78810, dive_id=279),\n",
       "  Image(path='drive-download-20240307T1050Z/112023_Alligator/111323_Alligator/111323_Alligator_FSL05/111323_Alligator DeepEast Drift2_FSL05/PB130314.ORF', taken_datetime=datetime.datetime(2023, 11, 13, 12, 34, 4, tzinfo=datetime.timezone.utc), is_canonical=True, camera_id=5, checksum='72dc69398f5a5b988a468a17472486cb', id=78811, dive_id=279),\n",
       "  Image(path='drive-download-20240307T1050Z/112023_Alligator/111323_Alligator/111323_Alligator_FSL05/111323_Alligator DeepEast Drift2_FSL05/PB130311.ORF', taken_datetime=datetime.datetime(2023, 11, 13, 12, 34, 4, tzinfo=datetime.timezone.utc), is_canonical=True, camera_id=5, checksum='d2fd1e3f6fdc486721efea9773e63146', id=78812, dive_id=279)],\n",
       " [Image(path='drive-download-20240307T1050Z/112023_Alligator/111323_Alligator/111323_Alligator_FSL05/111323_Alligator DeepEast Drift2_FSL05/PB130315.ORF', taken_datetime=datetime.datetime(2023, 11, 13, 12, 34, 6, tzinfo=datetime.timezone.utc), is_canonical=True, camera_id=5, checksum='72d1f7b06c27ef5d6c63f963f3377cf3', id=78813, dive_id=279),\n",
       "  Image(path='drive-download-20240307T1050Z/112023_Alligator/111323_Alligator/111323_Alligator_FSL05/111323_Alligator DeepEast Drift2_FSL05/PB130319.ORF', taken_datetime=datetime.datetime(2023, 11, 13, 12, 34, 7, tzinfo=datetime.timezone.utc), is_canonical=True, camera_id=5, checksum='030c47ddf10147324aa8e1fff13fc262', id=78814, dive_id=279),\n",
       "  Image(path='drive-download-20240307T1050Z/112023_Alligator/111323_Alligator/111323_Alligator_FSL05/111323_Alligator DeepEast Drift2_FSL05/PB130320.ORF', taken_datetime=datetime.datetime(2023, 11, 13, 12, 34, 7, tzinfo=datetime.timezone.utc), is_canonical=True, camera_id=5, checksum='5eaa47d6d1645210f7bc6e588e2539ac', id=78815, dive_id=279),\n",
       "  Image(path='drive-download-20240307T1050Z/112023_Alligator/111323_Alligator/111323_Alligator_FSL05/111323_Alligator DeepEast Drift2_FSL05/PB130318.ORF', taken_datetime=datetime.datetime(2023, 11, 13, 12, 34, 7, tzinfo=datetime.timezone.utc), is_canonical=True, camera_id=5, checksum='92746d393ef2419ce8e2547d5a51dccf', id=78816, dive_id=279),\n",
       "  Image(path='drive-download-20240307T1050Z/112023_Alligator/111323_Alligator/111323_Alligator_FSL05/111323_Alligator DeepEast Drift2_FSL05/PB130316.ORF', taken_datetime=datetime.datetime(2023, 11, 13, 12, 34, 7, tzinfo=datetime.timezone.utc), is_canonical=True, camera_id=5, checksum='366e4c4d0cd36dedad3c8841ddd42163', id=78817, dive_id=279),\n",
       "  Image(path='drive-download-20240307T1050Z/112023_Alligator/111323_Alligator/111323_Alligator_FSL05/111323_Alligator DeepEast Drift2_FSL05/PB130317.ORF', taken_datetime=datetime.datetime(2023, 11, 13, 12, 34, 7, tzinfo=datetime.timezone.utc), is_canonical=True, camera_id=5, checksum='0c7fe7e0060410fe7d895106f0088e67', id=78818, dive_id=279)],\n",
       " [Image(path='drive-download-20240307T1050Z/112023_Alligator/111323_Alligator/111323_Alligator_FSL05/111323_Alligator DeepEast Drift2_FSL05/PB130321.ORF', taken_datetime=datetime.datetime(2023, 11, 13, 12, 34, 8, tzinfo=datetime.timezone.utc), is_canonical=True, camera_id=5, checksum='392631336e34e42b97ef8cdda8d0734a', id=78819, dive_id=279),\n",
       "  Image(path='drive-download-20240307T1050Z/112023_Alligator/111323_Alligator/111323_Alligator_FSL05/111323_Alligator DeepEast Drift2_FSL05/PB130322.ORF', taken_datetime=datetime.datetime(2023, 11, 13, 12, 34, 8, tzinfo=datetime.timezone.utc), is_canonical=True, camera_id=5, checksum='d9f983b62be2849fe0057672ba128d2e', id=78820, dive_id=279)]]"
      ]
     },
     "execution_count": 6,
     "metadata": {},
     "output_type": "execute_result"
    }
   ],
   "source": [
    "async with AsyncSession(database.engine) as session:\n",
    "    images = await asyncio.gather(*(database.select_images_by_ids([mapping.image_id for mapping in mappings], session=session) for mappings in cluster_mappings))\n",
    "\n",
    "images"
   ]
  },
  {
   "cell_type": "code",
   "execution_count": 7,
   "id": "e01773da",
   "metadata": {},
   "outputs": [
    {
     "data": {
      "text/plain": [
       "(4,\n",
       " [Image(path='drive-download-20240307T1050Z/112023_Alligator/111323_Alligator/111323_Alligator_FSL05/111323_Alligator DeepEast Drift2_FSL05/PB130270.ORF', taken_datetime=datetime.datetime(2023, 11, 13, 12, 24, 15, tzinfo=datetime.timezone.utc), is_canonical=True, camera_id=5, checksum='965e90b85f5cd8bc0860bb02176fe01c', id=78765, dive_id=279),\n",
       "  Image(path='drive-download-20240307T1050Z/112023_Alligator/111323_Alligator/111323_Alligator_FSL05/111323_Alligator DeepEast Drift2_FSL05/PB130267.ORF', taken_datetime=datetime.datetime(2023, 11, 13, 12, 24, 15, tzinfo=datetime.timezone.utc), is_canonical=True, camera_id=5, checksum='d24b71a96ba916ebf54dc60220336b25', id=78766, dive_id=279),\n",
       "  Image(path='drive-download-20240307T1050Z/112023_Alligator/111323_Alligator/111323_Alligator_FSL05/111323_Alligator DeepEast Drift2_FSL05/PB130269.ORF', taken_datetime=datetime.datetime(2023, 11, 13, 12, 24, 15, tzinfo=datetime.timezone.utc), is_canonical=True, camera_id=5, checksum='613bd0c40cfeed67e0449fb2c719b02d', id=78767, dive_id=279),\n",
       "  Image(path='drive-download-20240307T1050Z/112023_Alligator/111323_Alligator/111323_Alligator_FSL05/111323_Alligator DeepEast Drift2_FSL05/PB130268.ORF', taken_datetime=datetime.datetime(2023, 11, 13, 12, 24, 15, tzinfo=datetime.timezone.utc), is_canonical=True, camera_id=5, checksum='e19a6336e2c06e14671ee90c3a466fb6', id=78768, dive_id=279)])"
      ]
     },
     "execution_count": 7,
     "metadata": {},
     "output_type": "execute_result"
    }
   ],
   "source": [
    "image_subset = images[34]\n",
    "\n",
    "len(image_subset), image_subset"
   ]
  },
  {
   "cell_type": "code",
   "execution_count": 8,
   "id": "8fe6f811",
   "metadata": {},
   "outputs": [
    {
     "data": {
      "text/plain": [
       "PosixPath('/home/chris/Repos/school/e4e/fishsense/fishsense-data-processing-workflow-worker/scripts/data/REEF/data')"
      ]
     },
     "execution_count": 8,
     "metadata": {},
     "output_type": "execute_result"
    }
   ],
   "source": [
    "data_path = Path(\"./data/REEF/data\").absolute()\n",
    "\n",
    "data_path"
   ]
  },
  {
   "cell_type": "code",
   "execution_count": 9,
   "id": "bed6937b",
   "metadata": {},
   "outputs": [
    {
     "data": {
      "text/plain": [
       "([PosixPath('/home/chris/Repos/school/e4e/fishsense/fishsense-data-processing-workflow-worker/scripts/data/REEF/data/drive-download-20240307T1050Z/112023_Alligator/111323_Alligator/111323_Alligator_FSL05/111323_Alligator DeepEast Drift2_FSL05/PB130270.ORF'),\n",
       "  PosixPath('/home/chris/Repos/school/e4e/fishsense/fishsense-data-processing-workflow-worker/scripts/data/REEF/data/drive-download-20240307T1050Z/112023_Alligator/111323_Alligator/111323_Alligator_FSL05/111323_Alligator DeepEast Drift2_FSL05/PB130267.ORF'),\n",
       "  PosixPath('/home/chris/Repos/school/e4e/fishsense/fishsense-data-processing-workflow-worker/scripts/data/REEF/data/drive-download-20240307T1050Z/112023_Alligator/111323_Alligator/111323_Alligator_FSL05/111323_Alligator DeepEast Drift2_FSL05/PB130269.ORF'),\n",
       "  PosixPath('/home/chris/Repos/school/e4e/fishsense/fishsense-data-processing-workflow-worker/scripts/data/REEF/data/drive-download-20240307T1050Z/112023_Alligator/111323_Alligator/111323_Alligator_FSL05/111323_Alligator DeepEast Drift2_FSL05/PB130268.ORF')],\n",
       " True)"
      ]
     },
     "execution_count": 9,
     "metadata": {},
     "output_type": "execute_result"
    }
   ],
   "source": [
    "image_paths = [data_path / image.path for image in image_subset]\n",
    "\n",
    "image_paths, all(path.exists() for path in image_paths)"
   ]
  },
  {
   "cell_type": "code",
   "execution_count": 10,
   "id": "660ad751",
   "metadata": {},
   "outputs": [
    {
     "data": {
      "text/plain": [
       "Camera(serial_number='BJ6C67988', name='FSL-05', id=5)"
      ]
     },
     "execution_count": 10,
     "metadata": {},
     "output_type": "execute_result"
    }
   ],
   "source": [
    "await database.select_camera_by_id(image_subset[0].camera_id)"
   ]
  },
  {
   "cell_type": "code",
   "execution_count": 11,
   "id": "dbe09369",
   "metadata": {},
   "outputs": [
    {
     "data": {
      "text/plain": [
       "(True,\n",
       " PosixPath('/home/chris/Repos/school/e4e/fishsense/fishsense-data-processing-workflow-worker/scripts/calib/FishSense Lite Calibration Parameters/FSL-05D/fsl-05d-lens-raw.pkg'))"
      ]
     },
     "execution_count": 11,
     "metadata": {},
     "output_type": "execute_result"
    }
   ],
   "source": [
    "calibration_path = Path(\"./calib/FishSense Lite Calibration Parameters/FSL-05D/fsl-05d-lens-raw.pkg\").absolute()\n",
    "\n",
    "calibration_path.exists(), calibration_path"
   ]
  },
  {
   "cell_type": "code",
   "execution_count": 12,
   "id": "7f4abf59",
   "metadata": {},
   "outputs": [
    {
     "data": {
      "text/plain": [
       "(True,\n",
       " PosixPath('/home/chris/Repos/school/e4e/fishsense/fishsense-data-processing-workflow-worker/scripts/process_work/preprocess_groups_jpeg'))"
      ]
     },
     "execution_count": 12,
     "metadata": {},
     "output_type": "execute_result"
    }
   ],
   "source": [
    "target_path = Path(\"./process_work/preprocess_groups_jpeg\").absolute()\n",
    "\n",
    "target_path.exists(), target_path"
   ]
  },
  {
   "cell_type": "code",
   "execution_count": 13,
   "id": "2ceab547",
   "metadata": {},
   "outputs": [
    {
     "data": {
      "text/plain": [
       "<fishsense.calibration.lens_calibration.LensCalibration at 0x78f14f5d9e80>"
      ]
     },
     "execution_count": 13,
     "metadata": {},
     "output_type": "execute_result"
    }
   ],
   "source": [
    "lens_calibration = LensCalibration()\n",
    "lens_calibration.load(calibration_path)\n",
    "\n",
    "lens_calibration"
   ]
  },
  {
   "cell_type": "code",
   "execution_count": 14,
   "id": "0722d05f",
   "metadata": {},
   "outputs": [],
   "source": [
    "tasks = []\n",
    "\n",
    "raw_processor = RawProcessor()\n",
    "image_rectifier = ImageRectifier(lens_calibration)\n",
    "\n",
    "for idx, (image, image_path) in enumerate(zip(image_subset, image_paths)):\n",
    "    img = raw_processor.process(image_path)\n",
    "    img = img_as_ubyte(image_rectifier.rectify(img))\n",
    "\n",
    "    height, width = img.shape[:2]\n",
    "\n",
    "    # Define text properties\n",
    "    text = f\"{idx + 1}/{len(image_paths)}\"\n",
    "    org = (width - 350, height - 75) # Bottom-right corner of the text\n",
    "    fontFace = cv2.FONT_HERSHEY_SIMPLEX\n",
    "    fontScale = 5\n",
    "    color = (0, 0, 255) # Red color (BGR)\n",
    "    thickness = 10\n",
    "    lineType = cv2.LINE_AA\n",
    "\n",
    "    # Put the text on the image\n",
    "    cv2.putText(img, text, org, fontFace, fontScale, color, thickness, lineType)\n",
    "\n",
    "    cv2.imwrite(target_path / f\"{image.checksum}.JPG\", img)\n",
    "\n",
    "    laser_label = await database.select_laser_label_by_image_id(image.id)\n",
    "    if laser_label is None:\n",
    "        predictions = []\n",
    "    else:\n",
    "        predictions = [{\n",
    "            \"model_version\": \"sql\",\n",
    "            \"result\": [{\n",
    "                \"id\": \"result1\",\n",
    "                \"type\": \"keypointlabels\",        \n",
    "                \"to_name\":\"image\",\"from_name\":\"laser\",\n",
    "                \"original_width\": width, \"original_height\": height,\n",
    "                \"image_rotation\": 0,\n",
    "                \"value\": {\n",
    "                    \"x\": laser_label.x / width * 100,\n",
    "                    \"y\": laser_label.y / height * 100,\n",
    "                    \"width\": 0.2,\n",
    "                    \"keypointlabels\": [laser_label.label]\n",
    "                }\n",
    "            }]\n",
    "        }]\n",
    "\n",
    "    tasks.append({\n",
    "        \"data\": {\n",
    "            \"image\": f\"https://orchestrator.fishsense.e4e.ucsd.edu/api/v1/data/groups_jpeg/{image.checksum}\"\n",
    "        },\n",
    "        \"predictions\": predictions,\n",
    "        \"annotations\": []\n",
    "    })"
   ]
  },
  {
   "cell_type": "code",
   "execution_count": null,
   "id": "e0151213",
   "metadata": {},
   "outputs": [],
   "source": [
    "client = LabelStudio(base_url=f\"https://labeler.e4e.ucsd.edu\", api_key=\"\")"
   ]
  },
  {
   "cell_type": "code",
   "execution_count": 16,
   "id": "a9d102f3",
   "metadata": {},
   "outputs": [
    {
     "data": {
      "text/plain": [
       "[{'data': {'image': 'https://orchestrator.fishsense.e4e.ucsd.edu/api/v1/data/groups_jpeg/965e90b85f5cd8bc0860bb02176fe01c'},\n",
       "  'predictions': [{'model_version': 'sql',\n",
       "    'result': [{'id': 'result1',\n",
       "      'type': 'keypointlabels',\n",
       "      'to_name': 'image',\n",
       "      'from_name': 'laser',\n",
       "      'original_width': 4014,\n",
       "      'original_height': 3016,\n",
       "      'image_rotation': 0,\n",
       "      'value': {'x': 48.59269188288886,\n",
       "       'y': 41.74462739315546,\n",
       "       'width': 0.2,\n",
       "       'keypointlabels': ['Red Laser']}}]}],\n",
       "  'annotations': []},\n",
       " {'data': {'image': 'https://orchestrator.fishsense.e4e.ucsd.edu/api/v1/data/groups_jpeg/d24b71a96ba916ebf54dc60220336b25'},\n",
       "  'predictions': [{'model_version': 'sql',\n",
       "    'result': [{'id': 'result1',\n",
       "      'type': 'keypointlabels',\n",
       "      'to_name': 'image',\n",
       "      'from_name': 'laser',\n",
       "      'original_width': 4014,\n",
       "      'original_height': 3016,\n",
       "      'image_rotation': 0,\n",
       "      'value': {'x': 48.69049878208928,\n",
       "       'y': 42.523840529409654,\n",
       "       'width': 0.2,\n",
       "       'keypointlabels': ['Red Laser']}}]}],\n",
       "  'annotations': []},\n",
       " {'data': {'image': 'https://orchestrator.fishsense.e4e.ucsd.edu/api/v1/data/groups_jpeg/613bd0c40cfeed67e0449fb2c719b02d'},\n",
       "  'predictions': [{'model_version': 'sql',\n",
       "    'result': [{'id': 'result1',\n",
       "      'type': 'keypointlabels',\n",
       "      'to_name': 'image',\n",
       "      'from_name': 'laser',\n",
       "      'original_width': 4014,\n",
       "      'original_height': 3016,\n",
       "      'image_rotation': 0,\n",
       "      'value': {'x': 48.661322503493764,\n",
       "       'y': 42.01750314447871,\n",
       "       'width': 0.2,\n",
       "       'keypointlabels': ['Red Laser']}}]}],\n",
       "  'annotations': []},\n",
       " {'data': {'image': 'https://orchestrator.fishsense.e4e.ucsd.edu/api/v1/data/groups_jpeg/e19a6336e2c06e14671ee90c3a466fb6'},\n",
       "  'predictions': [{'model_version': 'sql',\n",
       "    'result': [{'id': 'result1',\n",
       "      'type': 'keypointlabels',\n",
       "      'to_name': 'image',\n",
       "      'from_name': 'laser',\n",
       "      'original_width': 4014,\n",
       "      'original_height': 3016,\n",
       "      'image_rotation': 0,\n",
       "      'value': {'x': 48.97643620935629,\n",
       "       'y': 42.76629570747218,\n",
       "       'width': 0.2,\n",
       "       'keypointlabels': ['Red Laser']}}]}],\n",
       "  'annotations': []}]"
      ]
     },
     "execution_count": 16,
     "metadata": {},
     "output_type": "execute_result"
    }
   ],
   "source": [
    "client.projects.import_tasks(57, request=tasks)\n",
    "\n",
    "tasks"
   ]
  }
 ],
 "metadata": {
  "kernelspec": {
   "display_name": "fishsense-data-processing-workflow-worker",
   "language": "python",
   "name": "python3"
  },
  "language_info": {
   "codemirror_mode": {
    "name": "ipython",
    "version": 3
   },
   "file_extension": ".py",
   "mimetype": "text/x-python",
   "name": "python",
   "nbconvert_exporter": "python",
   "pygments_lexer": "ipython3",
   "version": "3.13.7"
  }
 },
 "nbformat": 4,
 "nbformat_minor": 5
}
